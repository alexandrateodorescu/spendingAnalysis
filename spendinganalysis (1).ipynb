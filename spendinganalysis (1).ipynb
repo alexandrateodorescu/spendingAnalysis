{
 "cells": [
  {
   "cell_type": "markdown",
   "metadata": {},
   "source": [
    "# ★ Introduction"
   ]
  },
  {
   "cell_type": "markdown",
   "metadata": {},
   "source": [
    "This project will aim to explore and analyze 8 months of transaction data using Python libraries. \n",
    "\n",
    "The goal is to:\n",
    "\n",
    "- Uncover monthly spending trends\n",
    "\n",
    "- Explore saving goal performance\n",
    "\n",
    "- Identify category breakdowns\n",
    "\n",
    "- Forecast future spending "
   ]
  },
  {
   "cell_type": "markdown",
   "metadata": {},
   "source": [
    "# ★ The Data\n",
    "\n"
   ]
  },
  {
   "cell_type": "markdown",
   "metadata": {},
   "source": [
    "This section will focus on revealing, understanding, and cleaning the data."
   ]
  },
  {
   "cell_type": "markdown",
   "metadata": {},
   "source": [
    "Starting off by importing all libraries that will be used throughout the exploration."
   ]
  },
  {
   "cell_type": "code",
   "execution_count": 481,
   "metadata": {
    "_cell_guid": "b1076dfc-b9ad-4769-8c92-a6c4dae69d19",
    "_uuid": "8f2839f25d086af736a60e9eeb907d3b93b6e0e5",
    "execution": {
     "iopub.execute_input": "2025-08-13T23:49:47.088114Z",
     "iopub.status.busy": "2025-08-13T23:49:47.087822Z",
     "iopub.status.idle": "2025-08-13T23:49:48.362737Z",
     "shell.execute_reply": "2025-08-13T23:49:48.361991Z",
     "shell.execute_reply.started": "2025-08-13T23:49:47.088091Z"
    },
    "jupyter": {
     "source_hidden": true
    },
    "trusted": true
   },
   "outputs": [],
   "source": [
    "import pandas as pd\n",
    "import numpy as np\n",
    "import matplotlib.pyplot as plt\n",
    "import seaborn as sns\n",
    "from datetime import datetime"
   ]
  },
  {
   "cell_type": "markdown",
   "metadata": {},
   "source": [
    "Next is to read and store the file. \n",
    "\n",
    "Before displaying the data, there's a few quick changes that need to be made. \n",
    "\n",
    "The raw table has columns for \"Description,\" which will be removed for privacy purposes. The values in the \"Amount\" column will also been randomized for a similar reason. "
   ]
  },
  {
   "cell_type": "code",
   "execution_count": 482,
   "metadata": {
    "execution": {
     "iopub.execute_input": "2025-08-13T23:49:58.017575Z",
     "iopub.status.busy": "2025-08-13T23:49:58.017261Z",
     "iopub.status.idle": "2025-08-13T23:49:58.025313Z",
     "shell.execute_reply": "2025-08-13T23:49:58.024378Z",
     "shell.execute_reply.started": "2025-08-13T23:49:58.017538Z"
    },
    "jupyter": {
     "source_hidden": true
    },
    "trusted": true
   },
   "outputs": [
    {
     "data": {
      "text/html": [
       "<div>\n",
       "<style scoped>\n",
       "    .dataframe tbody tr th:only-of-type {\n",
       "        vertical-align: middle;\n",
       "    }\n",
       "\n",
       "    .dataframe tbody tr th {\n",
       "        vertical-align: top;\n",
       "    }\n",
       "\n",
       "    .dataframe thead th {\n",
       "        text-align: right;\n",
       "    }\n",
       "</style>\n",
       "<table border=\"1\" class=\"dataframe\">\n",
       "  <thead>\n",
       "    <tr style=\"text-align: right;\">\n",
       "      <th></th>\n",
       "      <th>Date</th>\n",
       "      <th>Category</th>\n",
       "      <th>Amount</th>\n",
       "    </tr>\n",
       "  </thead>\n",
       "  <tbody>\n",
       "    <tr>\n",
       "      <th>0</th>\n",
       "      <td>2025-04-24</td>\n",
       "      <td>Meals &amp; Drinks</td>\n",
       "      <td>15.25</td>\n",
       "    </tr>\n",
       "    <tr>\n",
       "      <th>1</th>\n",
       "      <td>2025-04-21</td>\n",
       "      <td>Gifts</td>\n",
       "      <td>81.87</td>\n",
       "    </tr>\n",
       "    <tr>\n",
       "      <th>2</th>\n",
       "      <td>2025-04-21</td>\n",
       "      <td>Meals &amp; Drinks</td>\n",
       "      <td>11.58</td>\n",
       "    </tr>\n",
       "    <tr>\n",
       "      <th>3</th>\n",
       "      <td>2025-04-21</td>\n",
       "      <td>Meals &amp; Drinks</td>\n",
       "      <td>6.56</td>\n",
       "    </tr>\n",
       "    <tr>\n",
       "      <th>4</th>\n",
       "      <td>2025-04-21</td>\n",
       "      <td>Cosmetics</td>\n",
       "      <td>12.94</td>\n",
       "    </tr>\n",
       "    <tr>\n",
       "      <th>...</th>\n",
       "      <td>...</td>\n",
       "      <td>...</td>\n",
       "      <td>...</td>\n",
       "    </tr>\n",
       "    <tr>\n",
       "      <th>316</th>\n",
       "      <td>2024-09-03</td>\n",
       "      <td>Meals &amp; Drinks</td>\n",
       "      <td>4.24</td>\n",
       "    </tr>\n",
       "    <tr>\n",
       "      <th>317</th>\n",
       "      <td>2024-09-03</td>\n",
       "      <td>Meals &amp; Drinks</td>\n",
       "      <td>16.13</td>\n",
       "    </tr>\n",
       "    <tr>\n",
       "      <th>318</th>\n",
       "      <td>2024-09-03</td>\n",
       "      <td>Entertainment</td>\n",
       "      <td>31.11</td>\n",
       "    </tr>\n",
       "    <tr>\n",
       "      <th>319</th>\n",
       "      <td>2024-09-03</td>\n",
       "      <td>Entertainment</td>\n",
       "      <td>13.82</td>\n",
       "    </tr>\n",
       "    <tr>\n",
       "      <th>320</th>\n",
       "      <td>2024-09-03</td>\n",
       "      <td>Meals &amp; Drinks</td>\n",
       "      <td>5.42</td>\n",
       "    </tr>\n",
       "  </tbody>\n",
       "</table>\n",
       "<p>321 rows × 3 columns</p>\n",
       "</div>"
      ],
      "text/plain": [
       "           Date        Category  Amount\n",
       "0    2025-04-24  Meals & Drinks   15.25\n",
       "1    2025-04-21           Gifts   81.87\n",
       "2    2025-04-21  Meals & Drinks   11.58\n",
       "3    2025-04-21  Meals & Drinks    6.56\n",
       "4    2025-04-21       Cosmetics   12.94\n",
       "..          ...             ...     ...\n",
       "316  2024-09-03  Meals & Drinks    4.24\n",
       "317  2024-09-03  Meals & Drinks   16.13\n",
       "318  2024-09-03   Entertainment   31.11\n",
       "319  2024-09-03   Entertainment   13.82\n",
       "320  2024-09-03  Meals & Drinks    5.42\n",
       "\n",
       "[321 rows x 3 columns]"
      ]
     },
     "execution_count": 482,
     "metadata": {},
     "output_type": "execute_result"
    }
   ],
   "source": [
    "df = pd.read_csv(\"/Users/alexandrateodorescu/Documents/DATA/spendingAnalysis/transactionHistory.csv\") \n",
    "\n",
    "df[\"Amount\"] = (df[\"Amount\"] * np.random.uniform(0.7, 1.3, size=len(df))).round(2)\n",
    "\n",
    "df = df.drop(columns=[\"Description\"]) \n",
    "\n",
    "df"
   ]
  },
  {
   "cell_type": "markdown",
   "metadata": {},
   "source": [
    "# ★ Data Cleaning"
   ]
  },
  {
   "cell_type": "markdown",
   "metadata": {},
   "source": [
    "Let's get a better understanding of what's in the dataset. Starting by verifying that there are no missing values."
   ]
  },
  {
   "cell_type": "code",
   "execution_count": 483,
   "metadata": {},
   "outputs": [
    {
     "name": "stdout",
     "output_type": "stream",
     "text": [
      "<class 'pandas.core.frame.DataFrame'>\n",
      "RangeIndex: 321 entries, 0 to 320\n",
      "Data columns (total 3 columns):\n",
      " #   Column    Non-Null Count  Dtype  \n",
      "---  ------    --------------  -----  \n",
      " 0   Date      321 non-null    object \n",
      " 1   Category  321 non-null    object \n",
      " 2   Amount    321 non-null    float64\n",
      "dtypes: float64(1), object(2)\n",
      "memory usage: 7.7+ KB\n"
     ]
    }
   ],
   "source": [
    "df.info()"
   ]
  },
  {
   "cell_type": "markdown",
   "metadata": {},
   "source": [
    "Non-null counts are all equal to the number of rows. So, no cells are empty. 👍 \n",
    "\n",
    "Now, to get a better understanding of the numeric values:"
   ]
  },
  {
   "cell_type": "code",
   "execution_count": 484,
   "metadata": {},
   "outputs": [
    {
     "data": {
      "text/html": [
       "<div>\n",
       "<style scoped>\n",
       "    .dataframe tbody tr th:only-of-type {\n",
       "        vertical-align: middle;\n",
       "    }\n",
       "\n",
       "    .dataframe tbody tr th {\n",
       "        vertical-align: top;\n",
       "    }\n",
       "\n",
       "    .dataframe thead th {\n",
       "        text-align: right;\n",
       "    }\n",
       "</style>\n",
       "<table border=\"1\" class=\"dataframe\">\n",
       "  <thead>\n",
       "    <tr style=\"text-align: right;\">\n",
       "      <th></th>\n",
       "      <th>Amount</th>\n",
       "    </tr>\n",
       "  </thead>\n",
       "  <tbody>\n",
       "    <tr>\n",
       "      <th>count</th>\n",
       "      <td>321.000000</td>\n",
       "    </tr>\n",
       "    <tr>\n",
       "      <th>mean</th>\n",
       "      <td>1.336542</td>\n",
       "    </tr>\n",
       "    <tr>\n",
       "      <th>std</th>\n",
       "      <td>127.353969</td>\n",
       "    </tr>\n",
       "    <tr>\n",
       "      <th>min</th>\n",
       "      <td>-1147.330000</td>\n",
       "    </tr>\n",
       "    <tr>\n",
       "      <th>25%</th>\n",
       "      <td>5.960000</td>\n",
       "    </tr>\n",
       "    <tr>\n",
       "      <th>50%</th>\n",
       "      <td>9.390000</td>\n",
       "    </tr>\n",
       "    <tr>\n",
       "      <th>75%</th>\n",
       "      <td>20.470000</td>\n",
       "    </tr>\n",
       "    <tr>\n",
       "      <th>max</th>\n",
       "      <td>271.850000</td>\n",
       "    </tr>\n",
       "  </tbody>\n",
       "</table>\n",
       "</div>"
      ],
      "text/plain": [
       "            Amount\n",
       "count   321.000000\n",
       "mean      1.336542\n",
       "std     127.353969\n",
       "min   -1147.330000\n",
       "25%       5.960000\n",
       "50%       9.390000\n",
       "75%      20.470000\n",
       "max     271.850000"
      ]
     },
     "execution_count": 484,
     "metadata": {},
     "output_type": "execute_result"
    }
   ],
   "source": [
    "df.describe()"
   ]
  },
  {
   "cell_type": "markdown",
   "metadata": {},
   "source": [
    "Min amount is -1147.33, so there's at least one negative amount in this set. Let's determine how many there are. "
   ]
  },
  {
   "cell_type": "code",
   "execution_count": 485,
   "metadata": {},
   "outputs": [
    {
     "data": {
      "text/plain": [
       "13"
      ]
     },
     "execution_count": 485,
     "metadata": {},
     "output_type": "execute_result"
    }
   ],
   "source": [
    "(df[\"Amount\"] < 0).sum()"
   ]
  },
  {
   "cell_type": "markdown",
   "metadata": {},
   "source": [
    "Let's identify all the negative amounts and see how they can be adressed.\n",
    "\n",
    "Starting by observing all categories that exist in the dataset:"
   ]
  },
  {
   "cell_type": "code",
   "execution_count": 486,
   "metadata": {},
   "outputs": [
    {
     "data": {
      "text/plain": [
       "Category\n",
       "Meals & Drinks      123\n",
       "Food & Snacks        77\n",
       "Clothing             20\n",
       "Cosmetics            17\n",
       "Miscellaneous        16\n",
       "Gifts                14\n",
       "Bill payment         12\n",
       "Entertainment        11\n",
       "Activities            9\n",
       "Transportation        8\n",
       "School                7\n",
       "Dorm necessities      5\n",
       "Discretionary         2\n",
       "Name: count, dtype: int64"
      ]
     },
     "execution_count": 486,
     "metadata": {},
     "output_type": "execute_result"
    }
   ],
   "source": [
    "df[\"Category\"].value_counts()"
   ]
  },
  {
   "cell_type": "markdown",
   "metadata": {},
   "source": [
    "Taking a closer look at the \"Bill payment\" category, in which there are 12 values."
   ]
  },
  {
   "cell_type": "code",
   "execution_count": 487,
   "metadata": {},
   "outputs": [
    {
     "data": {
      "text/html": [
       "<div>\n",
       "<style scoped>\n",
       "    .dataframe tbody tr th:only-of-type {\n",
       "        vertical-align: middle;\n",
       "    }\n",
       "\n",
       "    .dataframe tbody tr th {\n",
       "        vertical-align: top;\n",
       "    }\n",
       "\n",
       "    .dataframe thead th {\n",
       "        text-align: right;\n",
       "    }\n",
       "</style>\n",
       "<table border=\"1\" class=\"dataframe\">\n",
       "  <thead>\n",
       "    <tr style=\"text-align: right;\">\n",
       "      <th></th>\n",
       "      <th>Date</th>\n",
       "      <th>Category</th>\n",
       "      <th>Amount</th>\n",
       "    </tr>\n",
       "  </thead>\n",
       "  <tbody>\n",
       "    <tr>\n",
       "      <th>29</th>\n",
       "      <td>2025-04-03</td>\n",
       "      <td>Bill payment</td>\n",
       "      <td>-662.76</td>\n",
       "    </tr>\n",
       "    <tr>\n",
       "      <th>69</th>\n",
       "      <td>2025-03-06</td>\n",
       "      <td>Bill payment</td>\n",
       "      <td>-649.10</td>\n",
       "    </tr>\n",
       "    <tr>\n",
       "      <th>124</th>\n",
       "      <td>2025-02-04</td>\n",
       "      <td>Bill payment</td>\n",
       "      <td>-719.92</td>\n",
       "    </tr>\n",
       "    <tr>\n",
       "      <th>137</th>\n",
       "      <td>2025-01-21</td>\n",
       "      <td>Bill payment</td>\n",
       "      <td>-226.04</td>\n",
       "    </tr>\n",
       "    <tr>\n",
       "      <th>145</th>\n",
       "      <td>2025-01-16</td>\n",
       "      <td>Bill payment</td>\n",
       "      <td>-267.79</td>\n",
       "    </tr>\n",
       "    <tr>\n",
       "      <th>168</th>\n",
       "      <td>2025-01-06</td>\n",
       "      <td>Bill payment</td>\n",
       "      <td>-867.56</td>\n",
       "    </tr>\n",
       "    <tr>\n",
       "      <th>178</th>\n",
       "      <td>2024-12-23</td>\n",
       "      <td>Bill payment</td>\n",
       "      <td>-375.14</td>\n",
       "    </tr>\n",
       "    <tr>\n",
       "      <th>200</th>\n",
       "      <td>2024-12-04</td>\n",
       "      <td>Bill payment</td>\n",
       "      <td>-149.02</td>\n",
       "    </tr>\n",
       "    <tr>\n",
       "      <th>205</th>\n",
       "      <td>2024-12-02</td>\n",
       "      <td>Bill payment</td>\n",
       "      <td>-646.26</td>\n",
       "    </tr>\n",
       "    <tr>\n",
       "      <th>250</th>\n",
       "      <td>2024-10-28</td>\n",
       "      <td>Bill payment</td>\n",
       "      <td>-1147.33</td>\n",
       "    </tr>\n",
       "    <tr>\n",
       "      <th>283</th>\n",
       "      <td>2024-09-26</td>\n",
       "      <td>Bill payment</td>\n",
       "      <td>-667.83</td>\n",
       "    </tr>\n",
       "    <tr>\n",
       "      <th>285</th>\n",
       "      <td>2024-09-24</td>\n",
       "      <td>Bill payment</td>\n",
       "      <td>-218.73</td>\n",
       "    </tr>\n",
       "  </tbody>\n",
       "</table>\n",
       "</div>"
      ],
      "text/plain": [
       "           Date      Category   Amount\n",
       "29   2025-04-03  Bill payment  -662.76\n",
       "69   2025-03-06  Bill payment  -649.10\n",
       "124  2025-02-04  Bill payment  -719.92\n",
       "137  2025-01-21  Bill payment  -226.04\n",
       "145  2025-01-16  Bill payment  -267.79\n",
       "168  2025-01-06  Bill payment  -867.56\n",
       "178  2024-12-23  Bill payment  -375.14\n",
       "200  2024-12-04  Bill payment  -149.02\n",
       "205  2024-12-02  Bill payment  -646.26\n",
       "250  2024-10-28  Bill payment -1147.33\n",
       "283  2024-09-26  Bill payment  -667.83\n",
       "285  2024-09-24  Bill payment  -218.73"
      ]
     },
     "execution_count": 487,
     "metadata": {},
     "output_type": "execute_result"
    }
   ],
   "source": [
    "bill_payment = df[df[\"Category\"] == \"Bill payment\"]\n",
    "\n",
    "bill_payment"
   ]
  },
  {
   "cell_type": "markdown",
   "metadata": {},
   "source": [
    "It is easily observed that all amounts in the category are negative. \n",
    "\n",
    "Bill payments do not hold any value for this exploration, so the category can be removed altogether.\n",
    "\n",
    "Then, to ensure that the rest of the amounts are positive, every number in the column can be overwritten by its absolute value."
   ]
  },
  {
   "cell_type": "code",
   "execution_count": 489,
   "metadata": {},
   "outputs": [
    {
     "data": {
      "text/html": [
       "<div>\n",
       "<style scoped>\n",
       "    .dataframe tbody tr th:only-of-type {\n",
       "        vertical-align: middle;\n",
       "    }\n",
       "\n",
       "    .dataframe tbody tr th {\n",
       "        vertical-align: top;\n",
       "    }\n",
       "\n",
       "    .dataframe thead th {\n",
       "        text-align: right;\n",
       "    }\n",
       "</style>\n",
       "<table border=\"1\" class=\"dataframe\">\n",
       "  <thead>\n",
       "    <tr style=\"text-align: right;\">\n",
       "      <th></th>\n",
       "      <th>Date</th>\n",
       "      <th>Category</th>\n",
       "      <th>Amount</th>\n",
       "    </tr>\n",
       "  </thead>\n",
       "  <tbody>\n",
       "    <tr>\n",
       "      <th>0</th>\n",
       "      <td>2025-04-24</td>\n",
       "      <td>Meals &amp; Drinks</td>\n",
       "      <td>15.25</td>\n",
       "    </tr>\n",
       "    <tr>\n",
       "      <th>1</th>\n",
       "      <td>2025-04-21</td>\n",
       "      <td>Gifts</td>\n",
       "      <td>81.87</td>\n",
       "    </tr>\n",
       "    <tr>\n",
       "      <th>2</th>\n",
       "      <td>2025-04-21</td>\n",
       "      <td>Meals &amp; Drinks</td>\n",
       "      <td>11.58</td>\n",
       "    </tr>\n",
       "    <tr>\n",
       "      <th>3</th>\n",
       "      <td>2025-04-21</td>\n",
       "      <td>Meals &amp; Drinks</td>\n",
       "      <td>6.56</td>\n",
       "    </tr>\n",
       "    <tr>\n",
       "      <th>4</th>\n",
       "      <td>2025-04-21</td>\n",
       "      <td>Cosmetics</td>\n",
       "      <td>12.94</td>\n",
       "    </tr>\n",
       "    <tr>\n",
       "      <th>...</th>\n",
       "      <td>...</td>\n",
       "      <td>...</td>\n",
       "      <td>...</td>\n",
       "    </tr>\n",
       "    <tr>\n",
       "      <th>316</th>\n",
       "      <td>2024-09-03</td>\n",
       "      <td>Meals &amp; Drinks</td>\n",
       "      <td>4.24</td>\n",
       "    </tr>\n",
       "    <tr>\n",
       "      <th>317</th>\n",
       "      <td>2024-09-03</td>\n",
       "      <td>Meals &amp; Drinks</td>\n",
       "      <td>16.13</td>\n",
       "    </tr>\n",
       "    <tr>\n",
       "      <th>318</th>\n",
       "      <td>2024-09-03</td>\n",
       "      <td>Entertainment</td>\n",
       "      <td>31.11</td>\n",
       "    </tr>\n",
       "    <tr>\n",
       "      <th>319</th>\n",
       "      <td>2024-09-03</td>\n",
       "      <td>Entertainment</td>\n",
       "      <td>13.82</td>\n",
       "    </tr>\n",
       "    <tr>\n",
       "      <th>320</th>\n",
       "      <td>2024-09-03</td>\n",
       "      <td>Meals &amp; Drinks</td>\n",
       "      <td>5.42</td>\n",
       "    </tr>\n",
       "  </tbody>\n",
       "</table>\n",
       "<p>309 rows × 3 columns</p>\n",
       "</div>"
      ],
      "text/plain": [
       "           Date        Category  Amount\n",
       "0    2025-04-24  Meals & Drinks   15.25\n",
       "1    2025-04-21           Gifts   81.87\n",
       "2    2025-04-21  Meals & Drinks   11.58\n",
       "3    2025-04-21  Meals & Drinks    6.56\n",
       "4    2025-04-21       Cosmetics   12.94\n",
       "..          ...             ...     ...\n",
       "316  2024-09-03  Meals & Drinks    4.24\n",
       "317  2024-09-03  Meals & Drinks   16.13\n",
       "318  2024-09-03   Entertainment   31.11\n",
       "319  2024-09-03   Entertainment   13.82\n",
       "320  2024-09-03  Meals & Drinks    5.42\n",
       "\n",
       "[309 rows x 3 columns]"
      ]
     },
     "execution_count": 489,
     "metadata": {},
     "output_type": "execute_result"
    }
   ],
   "source": [
    "df = df[df[\"Category\"] != \"Bill payment\"]\n",
    "\n",
    "df[\"Amount\"] = df[\"Amount\"].abs()\n",
    "\n",
    "df"
   ]
  },
  {
   "cell_type": "markdown",
   "metadata": {},
   "source": [
    "Let's move onto further cleaning:\n",
    "\n",
    "For effective analysis, the \"Date\" column will be converted to datetime. \n",
    "\n",
    "A fourth column titled \"Month\" can also be added, which will be useful later on when we take a look at monthly spending. "
   ]
  },
  {
   "cell_type": "code",
   "execution_count": 490,
   "metadata": {
    "execution": {
     "iopub.execute_input": "2025-08-13T23:49:59.073167Z",
     "iopub.status.busy": "2025-08-13T23:49:59.072881Z",
     "iopub.status.idle": "2025-08-13T23:49:59.109189Z",
     "shell.execute_reply": "2025-08-13T23:49:59.108360Z",
     "shell.execute_reply.started": "2025-08-13T23:49:59.073145Z"
    },
    "jupyter": {
     "source_hidden": true
    },
    "trusted": true
   },
   "outputs": [
    {
     "data": {
      "text/html": [
       "<div>\n",
       "<style scoped>\n",
       "    .dataframe tbody tr th:only-of-type {\n",
       "        vertical-align: middle;\n",
       "    }\n",
       "\n",
       "    .dataframe tbody tr th {\n",
       "        vertical-align: top;\n",
       "    }\n",
       "\n",
       "    .dataframe thead th {\n",
       "        text-align: right;\n",
       "    }\n",
       "</style>\n",
       "<table border=\"1\" class=\"dataframe\">\n",
       "  <thead>\n",
       "    <tr style=\"text-align: right;\">\n",
       "      <th></th>\n",
       "      <th>Date</th>\n",
       "      <th>Category</th>\n",
       "      <th>Amount</th>\n",
       "      <th>Month</th>\n",
       "    </tr>\n",
       "  </thead>\n",
       "  <tbody>\n",
       "    <tr>\n",
       "      <th>0</th>\n",
       "      <td>2025-04-24</td>\n",
       "      <td>Meals &amp; Drinks</td>\n",
       "      <td>15.25</td>\n",
       "      <td>2025-04</td>\n",
       "    </tr>\n",
       "    <tr>\n",
       "      <th>1</th>\n",
       "      <td>2025-04-21</td>\n",
       "      <td>Gifts</td>\n",
       "      <td>81.87</td>\n",
       "      <td>2025-04</td>\n",
       "    </tr>\n",
       "    <tr>\n",
       "      <th>2</th>\n",
       "      <td>2025-04-21</td>\n",
       "      <td>Meals &amp; Drinks</td>\n",
       "      <td>11.58</td>\n",
       "      <td>2025-04</td>\n",
       "    </tr>\n",
       "    <tr>\n",
       "      <th>3</th>\n",
       "      <td>2025-04-21</td>\n",
       "      <td>Meals &amp; Drinks</td>\n",
       "      <td>6.56</td>\n",
       "      <td>2025-04</td>\n",
       "    </tr>\n",
       "    <tr>\n",
       "      <th>4</th>\n",
       "      <td>2025-04-21</td>\n",
       "      <td>Cosmetics</td>\n",
       "      <td>12.94</td>\n",
       "      <td>2025-04</td>\n",
       "    </tr>\n",
       "    <tr>\n",
       "      <th>...</th>\n",
       "      <td>...</td>\n",
       "      <td>...</td>\n",
       "      <td>...</td>\n",
       "      <td>...</td>\n",
       "    </tr>\n",
       "    <tr>\n",
       "      <th>316</th>\n",
       "      <td>2024-09-03</td>\n",
       "      <td>Meals &amp; Drinks</td>\n",
       "      <td>4.24</td>\n",
       "      <td>2024-09</td>\n",
       "    </tr>\n",
       "    <tr>\n",
       "      <th>317</th>\n",
       "      <td>2024-09-03</td>\n",
       "      <td>Meals &amp; Drinks</td>\n",
       "      <td>16.13</td>\n",
       "      <td>2024-09</td>\n",
       "    </tr>\n",
       "    <tr>\n",
       "      <th>318</th>\n",
       "      <td>2024-09-03</td>\n",
       "      <td>Entertainment</td>\n",
       "      <td>31.11</td>\n",
       "      <td>2024-09</td>\n",
       "    </tr>\n",
       "    <tr>\n",
       "      <th>319</th>\n",
       "      <td>2024-09-03</td>\n",
       "      <td>Entertainment</td>\n",
       "      <td>13.82</td>\n",
       "      <td>2024-09</td>\n",
       "    </tr>\n",
       "    <tr>\n",
       "      <th>320</th>\n",
       "      <td>2024-09-03</td>\n",
       "      <td>Meals &amp; Drinks</td>\n",
       "      <td>5.42</td>\n",
       "      <td>2024-09</td>\n",
       "    </tr>\n",
       "  </tbody>\n",
       "</table>\n",
       "<p>309 rows × 4 columns</p>\n",
       "</div>"
      ],
      "text/plain": [
       "          Date        Category  Amount    Month\n",
       "0   2025-04-24  Meals & Drinks   15.25  2025-04\n",
       "1   2025-04-21           Gifts   81.87  2025-04\n",
       "2   2025-04-21  Meals & Drinks   11.58  2025-04\n",
       "3   2025-04-21  Meals & Drinks    6.56  2025-04\n",
       "4   2025-04-21       Cosmetics   12.94  2025-04\n",
       "..         ...             ...     ...      ...\n",
       "316 2024-09-03  Meals & Drinks    4.24  2024-09\n",
       "317 2024-09-03  Meals & Drinks   16.13  2024-09\n",
       "318 2024-09-03   Entertainment   31.11  2024-09\n",
       "319 2024-09-03   Entertainment   13.82  2024-09\n",
       "320 2024-09-03  Meals & Drinks    5.42  2024-09\n",
       "\n",
       "[309 rows x 4 columns]"
      ]
     },
     "execution_count": 490,
     "metadata": {},
     "output_type": "execute_result"
    }
   ],
   "source": [
    "df[\"Date\"] = pd.to_datetime(df[\"Date\"])\n",
    "\n",
    "df[\"Month\"] = df[\"Date\"].dt.to_period(\"M\")\n",
    "\n",
    "df"
   ]
  },
  {
   "cell_type": "markdown",
   "metadata": {},
   "source": [
    "The cleaned set has 309 rows and 4 columns."
   ]
  },
  {
   "cell_type": "markdown",
   "metadata": {},
   "source": [
    "# ★ Overview of Monthly Spending"
   ]
  },
  {
   "cell_type": "markdown",
   "metadata": {},
   "source": [
    "The next two sections will focus on monthly spending. \n",
    "\n",
    "It might be useful to observe a summary first:"
   ]
  },
  {
   "cell_type": "code",
   "execution_count": 512,
   "metadata": {
    "execution": {
     "iopub.execute_input": "2025-08-13T23:50:00.986958Z",
     "iopub.status.busy": "2025-08-13T23:50:00.986679Z",
     "iopub.status.idle": "2025-08-13T23:50:01.009450Z",
     "shell.execute_reply": "2025-08-13T23:50:01.008562Z",
     "shell.execute_reply.started": "2025-08-13T23:50:00.986937Z"
    },
    "jupyter": {
     "source_hidden": true
    },
    "trusted": true
   },
   "outputs": [
    {
     "name": "stdout",
     "output_type": "stream",
     "text": [
      "\n",
      "💸 Total spent in first year: $7086.19\n",
      "\n"
     ]
    },
    {
     "data": {
      "text/html": [
       "<div>\n",
       "<style scoped>\n",
       "    .dataframe tbody tr th:only-of-type {\n",
       "        vertical-align: middle;\n",
       "    }\n",
       "\n",
       "    .dataframe tbody tr th {\n",
       "        vertical-align: top;\n",
       "    }\n",
       "\n",
       "    .dataframe thead th {\n",
       "        text-align: right;\n",
       "    }\n",
       "</style>\n",
       "<table border=\"1\" class=\"dataframe\">\n",
       "  <thead>\n",
       "    <tr style=\"text-align: right;\">\n",
       "      <th></th>\n",
       "      <th>Month</th>\n",
       "      <th>Total Spent</th>\n",
       "    </tr>\n",
       "  </thead>\n",
       "  <tbody>\n",
       "    <tr>\n",
       "      <th>0</th>\n",
       "      <td>2024-09</td>\n",
       "      <td>1087.47</td>\n",
       "    </tr>\n",
       "    <tr>\n",
       "      <th>1</th>\n",
       "      <td>2024-10</td>\n",
       "      <td>770.02</td>\n",
       "    </tr>\n",
       "    <tr>\n",
       "      <th>2</th>\n",
       "      <td>2024-11</td>\n",
       "      <td>555.05</td>\n",
       "    </tr>\n",
       "    <tr>\n",
       "      <th>3</th>\n",
       "      <td>2024-12</td>\n",
       "      <td>1259.38</td>\n",
       "    </tr>\n",
       "    <tr>\n",
       "      <th>4</th>\n",
       "      <td>2025-01</td>\n",
       "      <td>1356.54</td>\n",
       "    </tr>\n",
       "    <tr>\n",
       "      <th>5</th>\n",
       "      <td>2025-02</td>\n",
       "      <td>749.86</td>\n",
       "    </tr>\n",
       "    <tr>\n",
       "      <th>6</th>\n",
       "      <td>2025-03</td>\n",
       "      <td>767.74</td>\n",
       "    </tr>\n",
       "    <tr>\n",
       "      <th>7</th>\n",
       "      <td>2025-04</td>\n",
       "      <td>540.13</td>\n",
       "    </tr>\n",
       "  </tbody>\n",
       "</table>\n",
       "</div>"
      ],
      "text/plain": [
       "     Month  Total Spent\n",
       "0  2024-09      1087.47\n",
       "1  2024-10       770.02\n",
       "2  2024-11       555.05\n",
       "3  2024-12      1259.38\n",
       "4  2025-01      1356.54\n",
       "5  2025-02       749.86\n",
       "6  2025-03       767.74\n",
       "7  2025-04       540.13"
      ]
     },
     "execution_count": 512,
     "metadata": {},
     "output_type": "execute_result"
    }
   ],
   "source": [
    "monthly_totals = df.groupby(\"Month\")[\"Amount\"].sum()\n",
    "\n",
    "monthly_totals = monthly_totals.reset_index()\n",
    "\n",
    "monthly_totals.columns = [\"Month\", \"Total Spent\"]\n",
    "\n",
    "total_spent = monthly_totals[\"Total Spent\"].sum()\n",
    "\n",
    "print(f\"\\n💸 Total spent in first year: ${total_spent:.2f}\\n\")\n",
    "\n",
    "monthly_totals"
   ]
  },
  {
   "cell_type": "markdown",
   "metadata": {},
   "source": [
    "Through this table, it is evident that the amount spent every month varies. \n",
    "\n",
    "Some months, around $500 was spent, and other months, more than double that amount was spent. "
   ]
  },
  {
   "cell_type": "markdown",
   "metadata": {},
   "source": [
    "➤ A bar graph will be useful to vizualize how spending varied over these 8 months:"
   ]
  },
  {
   "cell_type": "code",
   "execution_count": 513,
   "metadata": {},
   "outputs": [
    {
     "data": {
      "image/png": "[encoded data removed]",
      "text/plain": [
       "<Figure size 640x480 with 1 Axes>"
      ]
     },
     "metadata": {},
     "output_type": "display_data"
    }
   ],
   "source": [
    "monthly_totals[\"Month\"] = monthly_totals[\"Month\"].dt.to_timestamp()\n",
    "\n",
    "plt.bar(monthly_totals[\"Month\"], monthly_totals[\"Total Spent\"], width = 10, color=\"#fccde5\")\n",
    "\n",
    "plt.title(\"Monthly Spending Trends\")\n",
    "\n",
    "plt.xlabel(\"Months\")\n",
    "\n",
    "plt.ylabel(\"Amount ($)\")\n",
    "\n",
    "plt.show()"
   ]
  },
  {
   "cell_type": "markdown",
   "metadata": {},
   "source": [
    "From this bar graph, it is deduced that January 2025 incurred the highest spending, while April 2025 was the month with the lowest spending. \n",
    "\n",
    "December also had the second highest spending. \n",
    "\n",
    "A possible reason for this is that the winter holidays are around that time, when people typically have greater expenses due to travel, gifts, etc. \n",
    "\n",
    "We will take a look at the category breakdowns later on. For the time being, the bar graph provides useful insight into the spending distribution across these 8 months. "
   ]
  },
  {
   "cell_type": "markdown",
   "metadata": {},
   "source": [
    "Let's investigate further and take a look at the average monthly spending:"
   ]
  },
  {
   "cell_type": "code",
   "execution_count": 514,
   "metadata": {},
   "outputs": [
    {
     "data": {
      "text/plain": [
       "885.77"
      ]
     },
     "execution_count": 514,
     "metadata": {},
     "output_type": "execute_result"
    }
   ],
   "source": [
    "(monthly_totals[\"Total Spent\"].mean()).round(2)"
   ]
  },
  {
   "cell_type": "markdown",
   "metadata": {},
   "source": [
    "So, on average 885.77 was spent every month."
   ]
  },
  {
   "cell_type": "markdown",
   "metadata": {},
   "source": [
    "# ★ Closer Look at Every Month"
   ]
  },
  {
   "cell_type": "markdown",
   "metadata": {},
   "source": [
    "Now, isolating every month with a category breakdown. Starting with September 2024."
   ]
  },
  {
   "cell_type": "code",
   "execution_count": 494,
   "metadata": {
    "execution": {
     "iopub.execute_input": "2025-08-13T23:50:23.257441Z",
     "iopub.status.busy": "2025-08-13T23:50:23.257132Z",
     "iopub.status.idle": "2025-08-13T23:50:23.274899Z",
     "shell.execute_reply": "2025-08-13T23:50:23.274063Z",
     "shell.execute_reply.started": "2025-08-13T23:50:23.257416Z"
    },
    "jupyter": {
     "source_hidden": true
    },
    "trusted": true
   },
   "outputs": [
    {
     "name": "stdout",
     "output_type": "stream",
     "text": [
      "\n",
      "☀️ September Spending: $1087.47\n",
      "\n"
     ]
    },
    {
     "data": {
      "text/html": [
       "<div>\n",
       "<style scoped>\n",
       "    .dataframe tbody tr th:only-of-type {\n",
       "        vertical-align: middle;\n",
       "    }\n",
       "\n",
       "    .dataframe tbody tr th {\n",
       "        vertical-align: top;\n",
       "    }\n",
       "\n",
       "    .dataframe thead th {\n",
       "        text-align: right;\n",
       "    }\n",
       "</style>\n",
       "<table border=\"1\" class=\"dataframe\">\n",
       "  <thead>\n",
       "    <tr style=\"text-align: right;\">\n",
       "      <th></th>\n",
       "      <th>Category</th>\n",
       "      <th>Amount</th>\n",
       "      <th>Percent of Monthly Total (%)</th>\n",
       "    </tr>\n",
       "  </thead>\n",
       "  <tbody>\n",
       "    <tr>\n",
       "      <th>0</th>\n",
       "      <td>Clothing</td>\n",
       "      <td>445.21</td>\n",
       "      <td>40.94</td>\n",
       "    </tr>\n",
       "    <tr>\n",
       "      <th>4</th>\n",
       "      <td>Meals &amp; Drinks</td>\n",
       "      <td>167.32</td>\n",
       "      <td>15.39</td>\n",
       "    </tr>\n",
       "    <tr>\n",
       "      <th>7</th>\n",
       "      <td>Transportation</td>\n",
       "      <td>152.38</td>\n",
       "      <td>14.01</td>\n",
       "    </tr>\n",
       "    <tr>\n",
       "      <th>3</th>\n",
       "      <td>Food &amp; Snacks</td>\n",
       "      <td>127.23</td>\n",
       "      <td>11.70</td>\n",
       "    </tr>\n",
       "    <tr>\n",
       "      <th>2</th>\n",
       "      <td>Entertainment</td>\n",
       "      <td>96.39</td>\n",
       "      <td>8.86</td>\n",
       "    </tr>\n",
       "    <tr>\n",
       "      <th>1</th>\n",
       "      <td>Dorm necessities</td>\n",
       "      <td>53.76</td>\n",
       "      <td>4.94</td>\n",
       "    </tr>\n",
       "    <tr>\n",
       "      <th>6</th>\n",
       "      <td>School</td>\n",
       "      <td>24.15</td>\n",
       "      <td>2.22</td>\n",
       "    </tr>\n",
       "    <tr>\n",
       "      <th>5</th>\n",
       "      <td>Miscellaneous</td>\n",
       "      <td>21.03</td>\n",
       "      <td>1.93</td>\n",
       "    </tr>\n",
       "  </tbody>\n",
       "</table>\n",
       "</div>"
      ],
      "text/plain": [
       "           Category  Amount  Percent of Monthly Total (%)\n",
       "0          Clothing  445.21                         40.94\n",
       "4    Meals & Drinks  167.32                         15.39\n",
       "7    Transportation  152.38                         14.01\n",
       "3     Food & Snacks  127.23                         11.70\n",
       "2     Entertainment   96.39                          8.86\n",
       "1  Dorm necessities   53.76                          4.94\n",
       "6            School   24.15                          2.22\n",
       "5     Miscellaneous   21.03                          1.93"
      ]
     },
     "execution_count": 494,
     "metadata": {},
     "output_type": "execute_result"
    }
   ],
   "source": [
    "sept_spending = df[df[\"Month\"]== \"2024-09\"]\n",
    "\n",
    "sept_spending = sept_spending.groupby(\"Category\")[\"Amount\"].sum()\n",
    "\n",
    "sept_spending = sept_spending.reset_index()\n",
    "\n",
    "sept_total = sept_spending[\"Amount\"].sum()\n",
    "\n",
    "sept_spending[\"Percent of Monthly Total (%)\"] = round((sept_spending[\"Amount\"]/ sept_total) * 100, 2)\n",
    "\n",
    "sept_spending = sept_spending.sort_values(by = \"Amount\", ascending = False)\n",
    "\n",
    "print(f\"\\n☀️ September Spending: ${sept_total:.2f}\\n\")\n",
    "sept_spending"
   ]
  },
  {
   "cell_type": "code",
   "execution_count": 495,
   "metadata": {
    "execution": {
     "iopub.execute_input": "2025-08-13T23:50:36.322125Z",
     "iopub.status.busy": "2025-08-13T23:50:36.321837Z",
     "iopub.status.idle": "2025-08-13T23:50:36.337306Z",
     "shell.execute_reply": "2025-08-13T23:50:36.336621Z",
     "shell.execute_reply.started": "2025-08-13T23:50:36.322103Z"
    },
    "jupyter": {
     "source_hidden": true
    },
    "trusted": true
   },
   "outputs": [
    {
     "name": "stdout",
     "output_type": "stream",
     "text": [
      "\n",
      "🍂 October Spending: $770.02\n",
      "\n"
     ]
    },
    {
     "data": {
      "text/html": [
       "<div>\n",
       "<style scoped>\n",
       "    .dataframe tbody tr th:only-of-type {\n",
       "        vertical-align: middle;\n",
       "    }\n",
       "\n",
       "    .dataframe tbody tr th {\n",
       "        vertical-align: top;\n",
       "    }\n",
       "\n",
       "    .dataframe thead th {\n",
       "        text-align: right;\n",
       "    }\n",
       "</style>\n",
       "<table border=\"1\" class=\"dataframe\">\n",
       "  <thead>\n",
       "    <tr style=\"text-align: right;\">\n",
       "      <th></th>\n",
       "      <th>Category</th>\n",
       "      <th>Amount</th>\n",
       "      <th>Percent of Monthly Total (%)</th>\n",
       "    </tr>\n",
       "  </thead>\n",
       "  <tbody>\n",
       "    <tr>\n",
       "      <th>0</th>\n",
       "      <td>Clothing</td>\n",
       "      <td>282.52</td>\n",
       "      <td>36.69</td>\n",
       "    </tr>\n",
       "    <tr>\n",
       "      <th>4</th>\n",
       "      <td>Meals &amp; Drinks</td>\n",
       "      <td>172.39</td>\n",
       "      <td>22.39</td>\n",
       "    </tr>\n",
       "    <tr>\n",
       "      <th>1</th>\n",
       "      <td>Cosmetics</td>\n",
       "      <td>127.28</td>\n",
       "      <td>16.53</td>\n",
       "    </tr>\n",
       "    <tr>\n",
       "      <th>3</th>\n",
       "      <td>Food &amp; Snacks</td>\n",
       "      <td>87.69</td>\n",
       "      <td>11.39</td>\n",
       "    </tr>\n",
       "    <tr>\n",
       "      <th>2</th>\n",
       "      <td>Entertainment</td>\n",
       "      <td>67.25</td>\n",
       "      <td>8.73</td>\n",
       "    </tr>\n",
       "    <tr>\n",
       "      <th>5</th>\n",
       "      <td>Miscellaneous</td>\n",
       "      <td>32.89</td>\n",
       "      <td>4.27</td>\n",
       "    </tr>\n",
       "  </tbody>\n",
       "</table>\n",
       "</div>"
      ],
      "text/plain": [
       "         Category  Amount  Percent of Monthly Total (%)\n",
       "0        Clothing  282.52                         36.69\n",
       "4  Meals & Drinks  172.39                         22.39\n",
       "1       Cosmetics  127.28                         16.53\n",
       "3   Food & Snacks   87.69                         11.39\n",
       "2   Entertainment   67.25                          8.73\n",
       "5   Miscellaneous   32.89                          4.27"
      ]
     },
     "execution_count": 495,
     "metadata": {},
     "output_type": "execute_result"
    }
   ],
   "source": [
    "oct_spending = df[df[\"Month\"]== \"2024-10\"]\n",
    "\n",
    "oct_spending = oct_spending.groupby(\"Category\")[\"Amount\"].sum()\n",
    "\n",
    "oct_spending = oct_spending.reset_index()\n",
    "\n",
    "oct_total = oct_spending[\"Amount\"].sum()\n",
    "\n",
    "oct_spending[\"Percent of Monthly Total (%)\"] = round((oct_spending[\"Amount\"]/ oct_total) * 100, 2)\n",
    "\n",
    "oct_spending = oct_spending.sort_values(by = \"Amount\", ascending = False)\n",
    "\n",
    "print(f\"\\n🍂 October Spending: ${oct_total:.2f}\\n\")\n",
    "oct_spending"
   ]
  },
  {
   "cell_type": "code",
   "execution_count": 496,
   "metadata": {
    "execution": {
     "iopub.execute_input": "2025-08-13T23:51:10.722728Z",
     "iopub.status.busy": "2025-08-13T23:51:10.722403Z",
     "iopub.status.idle": "2025-08-13T23:51:10.738556Z",
     "shell.execute_reply": "2025-08-13T23:51:10.737865Z",
     "shell.execute_reply.started": "2025-08-13T23:51:10.722704Z"
    },
    "jupyter": {
     "source_hidden": true
    },
    "trusted": true
   },
   "outputs": [
    {
     "name": "stdout",
     "output_type": "stream",
     "text": [
      "\n",
      "🧣 November Spending: $555.05\n",
      "\n"
     ]
    },
    {
     "data": {
      "text/html": [
       "<div>\n",
       "<style scoped>\n",
       "    .dataframe tbody tr th:only-of-type {\n",
       "        vertical-align: middle;\n",
       "    }\n",
       "\n",
       "    .dataframe tbody tr th {\n",
       "        vertical-align: top;\n",
       "    }\n",
       "\n",
       "    .dataframe thead th {\n",
       "        text-align: right;\n",
       "    }\n",
       "</style>\n",
       "<table border=\"1\" class=\"dataframe\">\n",
       "  <thead>\n",
       "    <tr style=\"text-align: right;\">\n",
       "      <th></th>\n",
       "      <th>Category</th>\n",
       "      <th>Amount</th>\n",
       "      <th>Percent of Monthly Total (%)</th>\n",
       "    </tr>\n",
       "  </thead>\n",
       "  <tbody>\n",
       "    <tr>\n",
       "      <th>0</th>\n",
       "      <td>Activities</td>\n",
       "      <td>142.65</td>\n",
       "      <td>25.70</td>\n",
       "    </tr>\n",
       "    <tr>\n",
       "      <th>4</th>\n",
       "      <td>Food &amp; Snacks</td>\n",
       "      <td>125.66</td>\n",
       "      <td>22.64</td>\n",
       "    </tr>\n",
       "    <tr>\n",
       "      <th>5</th>\n",
       "      <td>Meals &amp; Drinks</td>\n",
       "      <td>121.05</td>\n",
       "      <td>21.81</td>\n",
       "    </tr>\n",
       "    <tr>\n",
       "      <th>2</th>\n",
       "      <td>Cosmetics</td>\n",
       "      <td>64.20</td>\n",
       "      <td>11.57</td>\n",
       "    </tr>\n",
       "    <tr>\n",
       "      <th>1</th>\n",
       "      <td>Clothing</td>\n",
       "      <td>61.02</td>\n",
       "      <td>10.99</td>\n",
       "    </tr>\n",
       "    <tr>\n",
       "      <th>3</th>\n",
       "      <td>Entertainment</td>\n",
       "      <td>24.52</td>\n",
       "      <td>4.42</td>\n",
       "    </tr>\n",
       "    <tr>\n",
       "      <th>6</th>\n",
       "      <td>Miscellaneous</td>\n",
       "      <td>12.57</td>\n",
       "      <td>2.26</td>\n",
       "    </tr>\n",
       "    <tr>\n",
       "      <th>7</th>\n",
       "      <td>Transportation</td>\n",
       "      <td>3.38</td>\n",
       "      <td>0.61</td>\n",
       "    </tr>\n",
       "  </tbody>\n",
       "</table>\n",
       "</div>"
      ],
      "text/plain": [
       "         Category  Amount  Percent of Monthly Total (%)\n",
       "0      Activities  142.65                         25.70\n",
       "4   Food & Snacks  125.66                         22.64\n",
       "5  Meals & Drinks  121.05                         21.81\n",
       "2       Cosmetics   64.20                         11.57\n",
       "1        Clothing   61.02                         10.99\n",
       "3   Entertainment   24.52                          4.42\n",
       "6   Miscellaneous   12.57                          2.26\n",
       "7  Transportation    3.38                          0.61"
      ]
     },
     "execution_count": 496,
     "metadata": {},
     "output_type": "execute_result"
    }
   ],
   "source": [
    "nov_spending = df[df[\"Month\"]== \"2024-11\"]\n",
    "\n",
    "nov_spending = nov_spending.groupby(\"Category\")[\"Amount\"].sum()\n",
    "\n",
    "nov_spending = nov_spending.reset_index()\n",
    "\n",
    "nov_total = nov_spending[\"Amount\"].sum()\n",
    "\n",
    "nov_spending[\"Percent of Monthly Total (%)\"] = round((nov_spending[\"Amount\"]/ nov_total) * 100, 2)\n",
    "\n",
    "nov_spending = nov_spending.sort_values(by = \"Amount\", ascending = False)\n",
    "\n",
    "print(f\"\\n🧣 November Spending: ${nov_total:.2f}\\n\")\n",
    "nov_spending"
   ]
  },
  {
   "cell_type": "code",
   "execution_count": 497,
   "metadata": {
    "execution": {
     "iopub.execute_input": "2025-08-13T23:51:41.405957Z",
     "iopub.status.busy": "2025-08-13T23:51:41.405652Z",
     "iopub.status.idle": "2025-08-13T23:51:41.423404Z",
     "shell.execute_reply": "2025-08-13T23:51:41.422641Z",
     "shell.execute_reply.started": "2025-08-13T23:51:41.405935Z"
    },
    "trusted": true
   },
   "outputs": [
    {
     "name": "stdout",
     "output_type": "stream",
     "text": [
      "\n",
      "🎄 December Spending: $1259.38\n",
      "\n"
     ]
    },
    {
     "data": {
      "text/html": [
       "<div>\n",
       "<style scoped>\n",
       "    .dataframe tbody tr th:only-of-type {\n",
       "        vertical-align: middle;\n",
       "    }\n",
       "\n",
       "    .dataframe tbody tr th {\n",
       "        vertical-align: top;\n",
       "    }\n",
       "\n",
       "    .dataframe thead th {\n",
       "        text-align: right;\n",
       "    }\n",
       "</style>\n",
       "<table border=\"1\" class=\"dataframe\">\n",
       "  <thead>\n",
       "    <tr style=\"text-align: right;\">\n",
       "      <th></th>\n",
       "      <th>Category</th>\n",
       "      <th>Amount</th>\n",
       "      <th>Percent of Monthly Total (%)</th>\n",
       "    </tr>\n",
       "  </thead>\n",
       "  <tbody>\n",
       "    <tr>\n",
       "      <th>4</th>\n",
       "      <td>Gifts</td>\n",
       "      <td>413.20</td>\n",
       "      <td>32.81</td>\n",
       "    </tr>\n",
       "    <tr>\n",
       "      <th>7</th>\n",
       "      <td>Transportation</td>\n",
       "      <td>353.87</td>\n",
       "      <td>28.10</td>\n",
       "    </tr>\n",
       "    <tr>\n",
       "      <th>1</th>\n",
       "      <td>Clothing</td>\n",
       "      <td>289.77</td>\n",
       "      <td>23.01</td>\n",
       "    </tr>\n",
       "    <tr>\n",
       "      <th>5</th>\n",
       "      <td>Meals &amp; Drinks</td>\n",
       "      <td>84.59</td>\n",
       "      <td>6.72</td>\n",
       "    </tr>\n",
       "    <tr>\n",
       "      <th>3</th>\n",
       "      <td>Food &amp; Snacks</td>\n",
       "      <td>68.30</td>\n",
       "      <td>5.42</td>\n",
       "    </tr>\n",
       "    <tr>\n",
       "      <th>0</th>\n",
       "      <td>Activities</td>\n",
       "      <td>29.84</td>\n",
       "      <td>2.37</td>\n",
       "    </tr>\n",
       "    <tr>\n",
       "      <th>2</th>\n",
       "      <td>Cosmetics</td>\n",
       "      <td>13.59</td>\n",
       "      <td>1.08</td>\n",
       "    </tr>\n",
       "    <tr>\n",
       "      <th>6</th>\n",
       "      <td>Miscellaneous</td>\n",
       "      <td>6.22</td>\n",
       "      <td>0.49</td>\n",
       "    </tr>\n",
       "  </tbody>\n",
       "</table>\n",
       "</div>"
      ],
      "text/plain": [
       "         Category  Amount  Percent of Monthly Total (%)\n",
       "4           Gifts  413.20                         32.81\n",
       "7  Transportation  353.87                         28.10\n",
       "1        Clothing  289.77                         23.01\n",
       "5  Meals & Drinks   84.59                          6.72\n",
       "3   Food & Snacks   68.30                          5.42\n",
       "0      Activities   29.84                          2.37\n",
       "2       Cosmetics   13.59                          1.08\n",
       "6   Miscellaneous    6.22                          0.49"
      ]
     },
     "execution_count": 497,
     "metadata": {},
     "output_type": "execute_result"
    }
   ],
   "source": [
    "dec_spending = df[df[\"Month\"]== \"2024-12\"]\n",
    "\n",
    "dec_spending = dec_spending.groupby(\"Category\")[\"Amount\"].sum()\n",
    "\n",
    "dec_spending = dec_spending.reset_index()\n",
    "\n",
    "dec_total = dec_spending[\"Amount\"].sum()\n",
    "\n",
    "dec_spending[\"Percent of Monthly Total (%)\"] = round((dec_spending[\"Amount\"]/ dec_total) * 100, 2)\n",
    "\n",
    "dec_spending = dec_spending.sort_values(by = \"Amount\", ascending = False)\n",
    "\n",
    "print(f\"\\n🎄 December Spending: ${dec_total:.2f}\\n\")\n",
    "dec_spending"
   ]
  },
  {
   "cell_type": "code",
   "execution_count": 498,
   "metadata": {
    "execution": {
     "iopub.execute_input": "2025-08-13T23:51:51.328180Z",
     "iopub.status.busy": "2025-08-13T23:51:51.327868Z",
     "iopub.status.idle": "2025-08-13T23:51:51.343424Z",
     "shell.execute_reply": "2025-08-13T23:51:51.342431Z",
     "shell.execute_reply.started": "2025-08-13T23:51:51.328155Z"
    },
    "trusted": true
   },
   "outputs": [
    {
     "name": "stdout",
     "output_type": "stream",
     "text": [
      "\n",
      "☃️ January Spending: $1356.54\n",
      "\n"
     ]
    },
    {
     "data": {
      "text/html": [
       "<div>\n",
       "<style scoped>\n",
       "    .dataframe tbody tr th:only-of-type {\n",
       "        vertical-align: middle;\n",
       "    }\n",
       "\n",
       "    .dataframe tbody tr th {\n",
       "        vertical-align: top;\n",
       "    }\n",
       "\n",
       "    .dataframe thead th {\n",
       "        text-align: right;\n",
       "    }\n",
       "</style>\n",
       "<table border=\"1\" class=\"dataframe\">\n",
       "  <thead>\n",
       "    <tr style=\"text-align: right;\">\n",
       "      <th></th>\n",
       "      <th>Category</th>\n",
       "      <th>Amount</th>\n",
       "      <th>Percent of Monthly Total (%)</th>\n",
       "    </tr>\n",
       "  </thead>\n",
       "  <tbody>\n",
       "    <tr>\n",
       "      <th>7</th>\n",
       "      <td>School</td>\n",
       "      <td>392.75</td>\n",
       "      <td>28.95</td>\n",
       "    </tr>\n",
       "    <tr>\n",
       "      <th>8</th>\n",
       "      <td>Transportation</td>\n",
       "      <td>271.85</td>\n",
       "      <td>20.04</td>\n",
       "    </tr>\n",
       "    <tr>\n",
       "      <th>5</th>\n",
       "      <td>Meals &amp; Drinks</td>\n",
       "      <td>155.31</td>\n",
       "      <td>11.45</td>\n",
       "    </tr>\n",
       "    <tr>\n",
       "      <th>3</th>\n",
       "      <td>Entertainment</td>\n",
       "      <td>142.80</td>\n",
       "      <td>10.53</td>\n",
       "    </tr>\n",
       "    <tr>\n",
       "      <th>4</th>\n",
       "      <td>Food &amp; Snacks</td>\n",
       "      <td>128.10</td>\n",
       "      <td>9.44</td>\n",
       "    </tr>\n",
       "    <tr>\n",
       "      <th>1</th>\n",
       "      <td>Clothing</td>\n",
       "      <td>124.54</td>\n",
       "      <td>9.18</td>\n",
       "    </tr>\n",
       "    <tr>\n",
       "      <th>0</th>\n",
       "      <td>Activities</td>\n",
       "      <td>63.17</td>\n",
       "      <td>4.66</td>\n",
       "    </tr>\n",
       "    <tr>\n",
       "      <th>2</th>\n",
       "      <td>Cosmetics</td>\n",
       "      <td>45.72</td>\n",
       "      <td>3.37</td>\n",
       "    </tr>\n",
       "    <tr>\n",
       "      <th>6</th>\n",
       "      <td>Miscellaneous</td>\n",
       "      <td>32.30</td>\n",
       "      <td>2.38</td>\n",
       "    </tr>\n",
       "  </tbody>\n",
       "</table>\n",
       "</div>"
      ],
      "text/plain": [
       "         Category  Amount  Percent of Monthly Total (%)\n",
       "7          School  392.75                         28.95\n",
       "8  Transportation  271.85                         20.04\n",
       "5  Meals & Drinks  155.31                         11.45\n",
       "3   Entertainment  142.80                         10.53\n",
       "4   Food & Snacks  128.10                          9.44\n",
       "1        Clothing  124.54                          9.18\n",
       "0      Activities   63.17                          4.66\n",
       "2       Cosmetics   45.72                          3.37\n",
       "6   Miscellaneous   32.30                          2.38"
      ]
     },
     "execution_count": 498,
     "metadata": {},
     "output_type": "execute_result"
    }
   ],
   "source": [
    "jan_spending = df[df[\"Month\"]== \"2025-01\"]\n",
    "\n",
    "jan_spending = jan_spending.groupby(\"Category\")[\"Amount\"].sum()\n",
    "\n",
    "jan_spending = jan_spending.reset_index()\n",
    "\n",
    "jan_total = jan_spending[\"Amount\"].sum()\n",
    "\n",
    "jan_spending[\"Percent of Monthly Total (%)\"] = round((jan_spending[\"Amount\"]/ jan_total) * 100, 2)\n",
    "\n",
    "jan_spending = jan_spending.sort_values(by = \"Amount\", ascending = False)\n",
    "\n",
    "print(f\"\\n☃️ January Spending: ${jan_total:.2f}\\n\")\n",
    "jan_spending"
   ]
  },
  {
   "cell_type": "code",
   "execution_count": 499,
   "metadata": {
    "execution": {
     "iopub.execute_input": "2025-08-13T23:52:00.729523Z",
     "iopub.status.busy": "2025-08-13T23:52:00.729218Z",
     "iopub.status.idle": "2025-08-13T23:52:00.746225Z",
     "shell.execute_reply": "2025-08-13T23:52:00.745279Z",
     "shell.execute_reply.started": "2025-08-13T23:52:00.729501Z"
    },
    "trusted": true
   },
   "outputs": [
    {
     "name": "stdout",
     "output_type": "stream",
     "text": [
      "\n",
      "🎿 February Spending: $749.86\n",
      "\n"
     ]
    },
    {
     "data": {
      "text/html": [
       "<div>\n",
       "<style scoped>\n",
       "    .dataframe tbody tr th:only-of-type {\n",
       "        vertical-align: middle;\n",
       "    }\n",
       "\n",
       "    .dataframe tbody tr th {\n",
       "        vertical-align: top;\n",
       "    }\n",
       "\n",
       "    .dataframe thead th {\n",
       "        text-align: right;\n",
       "    }\n",
       "</style>\n",
       "<table border=\"1\" class=\"dataframe\">\n",
       "  <thead>\n",
       "    <tr style=\"text-align: right;\">\n",
       "      <th></th>\n",
       "      <th>Category</th>\n",
       "      <th>Amount</th>\n",
       "      <th>Percent of Monthly Total (%)</th>\n",
       "    </tr>\n",
       "  </thead>\n",
       "  <tbody>\n",
       "    <tr>\n",
       "      <th>6</th>\n",
       "      <td>Meals &amp; Drinks</td>\n",
       "      <td>353.43</td>\n",
       "      <td>47.13</td>\n",
       "    </tr>\n",
       "    <tr>\n",
       "      <th>4</th>\n",
       "      <td>Food &amp; Snacks</td>\n",
       "      <td>130.24</td>\n",
       "      <td>17.37</td>\n",
       "    </tr>\n",
       "    <tr>\n",
       "      <th>1</th>\n",
       "      <td>Cosmetics</td>\n",
       "      <td>112.82</td>\n",
       "      <td>15.05</td>\n",
       "    </tr>\n",
       "    <tr>\n",
       "      <th>0</th>\n",
       "      <td>Clothing</td>\n",
       "      <td>50.42</td>\n",
       "      <td>6.72</td>\n",
       "    </tr>\n",
       "    <tr>\n",
       "      <th>5</th>\n",
       "      <td>Gifts</td>\n",
       "      <td>44.54</td>\n",
       "      <td>5.94</td>\n",
       "    </tr>\n",
       "    <tr>\n",
       "      <th>2</th>\n",
       "      <td>Dorm necessities</td>\n",
       "      <td>28.29</td>\n",
       "      <td>3.77</td>\n",
       "    </tr>\n",
       "    <tr>\n",
       "      <th>7</th>\n",
       "      <td>Miscellaneous</td>\n",
       "      <td>21.19</td>\n",
       "      <td>2.83</td>\n",
       "    </tr>\n",
       "    <tr>\n",
       "      <th>3</th>\n",
       "      <td>Entertainment</td>\n",
       "      <td>8.93</td>\n",
       "      <td>1.19</td>\n",
       "    </tr>\n",
       "  </tbody>\n",
       "</table>\n",
       "</div>"
      ],
      "text/plain": [
       "           Category  Amount  Percent of Monthly Total (%)\n",
       "6    Meals & Drinks  353.43                         47.13\n",
       "4     Food & Snacks  130.24                         17.37\n",
       "1         Cosmetics  112.82                         15.05\n",
       "0          Clothing   50.42                          6.72\n",
       "5             Gifts   44.54                          5.94\n",
       "2  Dorm necessities   28.29                          3.77\n",
       "7     Miscellaneous   21.19                          2.83\n",
       "3     Entertainment    8.93                          1.19"
      ]
     },
     "execution_count": 499,
     "metadata": {},
     "output_type": "execute_result"
    }
   ],
   "source": [
    "feb_spending = df[df[\"Month\"]== \"2025-02\"]\n",
    "\n",
    "feb_spending = feb_spending.groupby(\"Category\")[\"Amount\"].sum()\n",
    "\n",
    "feb_spending = feb_spending.reset_index()\n",
    "\n",
    "feb_total = feb_spending[\"Amount\"].sum()\n",
    "\n",
    "feb_spending[\"Percent of Monthly Total (%)\"] = round((feb_spending[\"Amount\"]/ feb_total) * 100, 2)\n",
    "\n",
    "feb_spending = feb_spending.sort_values(by = \"Amount\", ascending = False)\n",
    "\n",
    "print(f\"\\n🎿 February Spending: ${feb_total:.2f}\\n\")\n",
    "feb_spending"
   ]
  },
  {
   "cell_type": "code",
   "execution_count": 500,
   "metadata": {
    "execution": {
     "iopub.execute_input": "2025-08-13T23:52:09.027368Z",
     "iopub.status.busy": "2025-08-13T23:52:09.027084Z",
     "iopub.status.idle": "2025-08-13T23:52:09.043116Z",
     "shell.execute_reply": "2025-08-13T23:52:09.042222Z",
     "shell.execute_reply.started": "2025-08-13T23:52:09.027347Z"
    },
    "trusted": true
   },
   "outputs": [
    {
     "name": "stdout",
     "output_type": "stream",
     "text": [
      "\n",
      "☁️ March Spending: $767.74\n",
      "\n"
     ]
    },
    {
     "data": {
      "text/html": [
       "<div>\n",
       "<style scoped>\n",
       "    .dataframe tbody tr th:only-of-type {\n",
       "        vertical-align: middle;\n",
       "    }\n",
       "\n",
       "    .dataframe tbody tr th {\n",
       "        vertical-align: top;\n",
       "    }\n",
       "\n",
       "    .dataframe thead th {\n",
       "        text-align: right;\n",
       "    }\n",
       "</style>\n",
       "<table border=\"1\" class=\"dataframe\">\n",
       "  <thead>\n",
       "    <tr style=\"text-align: right;\">\n",
       "      <th></th>\n",
       "      <th>Category</th>\n",
       "      <th>Amount</th>\n",
       "      <th>Percent of Monthly Total (%)</th>\n",
       "    </tr>\n",
       "  </thead>\n",
       "  <tbody>\n",
       "    <tr>\n",
       "      <th>8</th>\n",
       "      <td>Transportation</td>\n",
       "      <td>192.82</td>\n",
       "      <td>25.115273</td>\n",
       "    </tr>\n",
       "    <tr>\n",
       "      <th>0</th>\n",
       "      <td>Activities</td>\n",
       "      <td>150.30</td>\n",
       "      <td>19.576940</td>\n",
       "    </tr>\n",
       "    <tr>\n",
       "      <th>6</th>\n",
       "      <td>Meals &amp; Drinks</td>\n",
       "      <td>145.05</td>\n",
       "      <td>18.893115</td>\n",
       "    </tr>\n",
       "    <tr>\n",
       "      <th>5</th>\n",
       "      <td>Food &amp; Snacks</td>\n",
       "      <td>92.27</td>\n",
       "      <td>12.018392</td>\n",
       "    </tr>\n",
       "    <tr>\n",
       "      <th>2</th>\n",
       "      <td>Cosmetics</td>\n",
       "      <td>73.46</td>\n",
       "      <td>9.568343</td>\n",
       "    </tr>\n",
       "    <tr>\n",
       "      <th>4</th>\n",
       "      <td>Entertainment</td>\n",
       "      <td>50.01</td>\n",
       "      <td>6.513924</td>\n",
       "    </tr>\n",
       "    <tr>\n",
       "      <th>1</th>\n",
       "      <td>Clothing</td>\n",
       "      <td>41.82</td>\n",
       "      <td>5.447157</td>\n",
       "    </tr>\n",
       "    <tr>\n",
       "      <th>7</th>\n",
       "      <td>Miscellaneous</td>\n",
       "      <td>18.30</td>\n",
       "      <td>2.383619</td>\n",
       "    </tr>\n",
       "    <tr>\n",
       "      <th>3</th>\n",
       "      <td>Discretionary</td>\n",
       "      <td>3.71</td>\n",
       "      <td>0.483237</td>\n",
       "    </tr>\n",
       "  </tbody>\n",
       "</table>\n",
       "</div>"
      ],
      "text/plain": [
       "         Category  Amount  Percent of Monthly Total (%)\n",
       "8  Transportation  192.82                     25.115273\n",
       "0      Activities  150.30                     19.576940\n",
       "6  Meals & Drinks  145.05                     18.893115\n",
       "5   Food & Snacks   92.27                     12.018392\n",
       "2       Cosmetics   73.46                      9.568343\n",
       "4   Entertainment   50.01                      6.513924\n",
       "1        Clothing   41.82                      5.447157\n",
       "7   Miscellaneous   18.30                      2.383619\n",
       "3   Discretionary    3.71                      0.483237"
      ]
     },
     "execution_count": 500,
     "metadata": {},
     "output_type": "execute_result"
    }
   ],
   "source": [
    "mar_spending = df[df[\"Month\"]== \"2025-03\"]\n",
    "\n",
    "mar_spending = mar_spending.groupby(\"Category\")[\"Amount\"].sum()\n",
    "\n",
    "mar_spending = mar_spending.reset_index()\n",
    "\n",
    "mar_total = mar_spending[\"Amount\"].sum()\n",
    "\n",
    "mar_spending[\"Percent of Monthly Total (%)\"] = (mar_spending[\"Amount\"]/ mar_total) * 100\n",
    "\n",
    "mar_spending = mar_spending.sort_values(by = \"Amount\", ascending = False)\n",
    "\n",
    "print(f\"\\n☁️ March Spending: ${mar_total:.2f}\\n\")\n",
    "mar_spending"
   ]
  },
  {
   "cell_type": "code",
   "execution_count": 501,
   "metadata": {
    "execution": {
     "iopub.execute_input": "2025-08-13T23:52:18.103484Z",
     "iopub.status.busy": "2025-08-13T23:52:18.103204Z",
     "iopub.status.idle": "2025-08-13T23:52:18.119198Z",
     "shell.execute_reply": "2025-08-13T23:52:18.118199Z",
     "shell.execute_reply.started": "2025-08-13T23:52:18.103464Z"
    },
    "trusted": true
   },
   "outputs": [
    {
     "name": "stdout",
     "output_type": "stream",
     "text": [
      "\n",
      "☔️ April Spending: $540.13\n",
      "\n"
     ]
    },
    {
     "data": {
      "text/html": [
       "<div>\n",
       "<style scoped>\n",
       "    .dataframe tbody tr th:only-of-type {\n",
       "        vertical-align: middle;\n",
       "    }\n",
       "\n",
       "    .dataframe tbody tr th {\n",
       "        vertical-align: top;\n",
       "    }\n",
       "\n",
       "    .dataframe thead th {\n",
       "        text-align: right;\n",
       "    }\n",
       "</style>\n",
       "<table border=\"1\" class=\"dataframe\">\n",
       "  <thead>\n",
       "    <tr style=\"text-align: right;\">\n",
       "      <th></th>\n",
       "      <th>Category</th>\n",
       "      <th>Amount</th>\n",
       "      <th>Percent of Monthly Total (%)</th>\n",
       "    </tr>\n",
       "  </thead>\n",
       "  <tbody>\n",
       "    <tr>\n",
       "      <th>5</th>\n",
       "      <td>Gifts</td>\n",
       "      <td>238.84</td>\n",
       "      <td>44.218984</td>\n",
       "    </tr>\n",
       "    <tr>\n",
       "      <th>6</th>\n",
       "      <td>Meals &amp; Drinks</td>\n",
       "      <td>102.30</td>\n",
       "      <td>18.939885</td>\n",
       "    </tr>\n",
       "    <tr>\n",
       "      <th>2</th>\n",
       "      <td>Discretionary</td>\n",
       "      <td>50.76</td>\n",
       "      <td>9.397738</td>\n",
       "    </tr>\n",
       "    <tr>\n",
       "      <th>0</th>\n",
       "      <td>Clothing</td>\n",
       "      <td>46.45</td>\n",
       "      <td>8.599782</td>\n",
       "    </tr>\n",
       "    <tr>\n",
       "      <th>4</th>\n",
       "      <td>Food &amp; Snacks</td>\n",
       "      <td>43.39</td>\n",
       "      <td>8.033251</td>\n",
       "    </tr>\n",
       "    <tr>\n",
       "      <th>3</th>\n",
       "      <td>Dorm necessities</td>\n",
       "      <td>29.18</td>\n",
       "      <td>5.402403</td>\n",
       "    </tr>\n",
       "    <tr>\n",
       "      <th>1</th>\n",
       "      <td>Cosmetics</td>\n",
       "      <td>12.94</td>\n",
       "      <td>2.395720</td>\n",
       "    </tr>\n",
       "    <tr>\n",
       "      <th>8</th>\n",
       "      <td>School</td>\n",
       "      <td>8.23</td>\n",
       "      <td>1.523707</td>\n",
       "    </tr>\n",
       "    <tr>\n",
       "      <th>7</th>\n",
       "      <td>Miscellaneous</td>\n",
       "      <td>8.04</td>\n",
       "      <td>1.488531</td>\n",
       "    </tr>\n",
       "  </tbody>\n",
       "</table>\n",
       "</div>"
      ],
      "text/plain": [
       "           Category  Amount  Percent of Monthly Total (%)\n",
       "5             Gifts  238.84                     44.218984\n",
       "6    Meals & Drinks  102.30                     18.939885\n",
       "2     Discretionary   50.76                      9.397738\n",
       "0          Clothing   46.45                      8.599782\n",
       "4     Food & Snacks   43.39                      8.033251\n",
       "3  Dorm necessities   29.18                      5.402403\n",
       "1         Cosmetics   12.94                      2.395720\n",
       "8            School    8.23                      1.523707\n",
       "7     Miscellaneous    8.04                      1.488531"
      ]
     },
     "execution_count": 501,
     "metadata": {},
     "output_type": "execute_result"
    }
   ],
   "source": [
    "apr_spending = df[df[\"Month\"]== \"2025-04\"]\n",
    "\n",
    "apr_spending = apr_spending.groupby(\"Category\")[\"Amount\"].sum()\n",
    "\n",
    "apr_spending = apr_spending.reset_index()\n",
    "\n",
    "apr_total = apr_spending[\"Amount\"].sum()\n",
    "\n",
    "apr_spending[\"Percent of Monthly Total (%)\"] = (apr_spending[\"Amount\"]/ apr_total) * 100\n",
    "\n",
    "apr_spending = apr_spending.sort_values(by = \"Amount\", ascending = False)\n",
    "\n",
    "print(f\"\\n☔️ April Spending: ${apr_total:.2f}\\n\")\n",
    "apr_spending"
   ]
  },
  {
   "cell_type": "markdown",
   "metadata": {},
   "source": [
    "Months with highest spending:\n",
    "\n",
    "1. January: $1356.54 , Top Category - School\n",
    "\n",
    "2.  Decenber: $1259.38, Top Category - Gifts\n",
    "\n",
    "3.  September: $1087.47, Top Category - Clothing"
   ]
  },
  {
   "cell_type": "markdown",
   "metadata": {},
   "source": [
    "# ★ Saving Goals"
   ]
  },
  {
   "cell_type": "markdown",
   "metadata": {},
   "source": [
    "This section will focus on monthly saving performance. The following assumptions will be made:\n",
    "\n",
    "- There is a fixed monthly income of $1100\n",
    "\n",
    "- The saving goal is $300 a month \n",
    "\n",
    "- The money that is left over (income - expenses) is all saved\n",
    "\n",
    "Note: A negative amount of money left over indicates that more was spent than earned that month."
   ]
  },
  {
   "cell_type": "markdown",
   "metadata": {},
   "source": [
    "A table can be created to summarize how much money was spent every month, how much was left over, and whether the saving goal was achieved for that month."
   ]
  },
  {
   "cell_type": "code",
   "execution_count": 516,
   "metadata": {},
   "outputs": [
    {
     "data": {
      "text/html": [
       "<div>\n",
       "<style scoped>\n",
       "    .dataframe tbody tr th:only-of-type {\n",
       "        vertical-align: middle;\n",
       "    }\n",
       "\n",
       "    .dataframe tbody tr th {\n",
       "        vertical-align: top;\n",
       "    }\n",
       "\n",
       "    .dataframe thead th {\n",
       "        text-align: right;\n",
       "    }\n",
       "</style>\n",
       "<table border=\"1\" class=\"dataframe\">\n",
       "  <thead>\n",
       "    <tr style=\"text-align: right;\">\n",
       "      <th></th>\n",
       "      <th>Month</th>\n",
       "      <th>Total Spent</th>\n",
       "      <th>Money Left Over</th>\n",
       "      <th>Saving Goal Achieved</th>\n",
       "    </tr>\n",
       "  </thead>\n",
       "  <tbody>\n",
       "    <tr>\n",
       "      <th>4</th>\n",
       "      <td>2025-01</td>\n",
       "      <td>1356.54</td>\n",
       "      <td>-256.54</td>\n",
       "      <td>No</td>\n",
       "    </tr>\n",
       "    <tr>\n",
       "      <th>3</th>\n",
       "      <td>2024-12</td>\n",
       "      <td>1259.38</td>\n",
       "      <td>-159.38</td>\n",
       "      <td>No</td>\n",
       "    </tr>\n",
       "    <tr>\n",
       "      <th>0</th>\n",
       "      <td>2024-09</td>\n",
       "      <td>1087.47</td>\n",
       "      <td>12.53</td>\n",
       "      <td>No</td>\n",
       "    </tr>\n",
       "    <tr>\n",
       "      <th>1</th>\n",
       "      <td>2024-10</td>\n",
       "      <td>770.02</td>\n",
       "      <td>329.98</td>\n",
       "      <td>Yes</td>\n",
       "    </tr>\n",
       "    <tr>\n",
       "      <th>6</th>\n",
       "      <td>2025-03</td>\n",
       "      <td>767.74</td>\n",
       "      <td>332.26</td>\n",
       "      <td>Yes</td>\n",
       "    </tr>\n",
       "    <tr>\n",
       "      <th>5</th>\n",
       "      <td>2025-02</td>\n",
       "      <td>749.86</td>\n",
       "      <td>350.14</td>\n",
       "      <td>Yes</td>\n",
       "    </tr>\n",
       "    <tr>\n",
       "      <th>2</th>\n",
       "      <td>2024-11</td>\n",
       "      <td>555.05</td>\n",
       "      <td>544.95</td>\n",
       "      <td>Yes</td>\n",
       "    </tr>\n",
       "    <tr>\n",
       "      <th>7</th>\n",
       "      <td>2025-04</td>\n",
       "      <td>540.13</td>\n",
       "      <td>559.87</td>\n",
       "      <td>Yes</td>\n",
       "    </tr>\n",
       "  </tbody>\n",
       "</table>\n",
       "</div>"
      ],
      "text/plain": [
       "     Month  Total Spent  Money Left Over Saving Goal Achieved\n",
       "4  2025-01      1356.54          -256.54                   No\n",
       "3  2024-12      1259.38          -159.38                   No\n",
       "0  2024-09      1087.47            12.53                   No\n",
       "1  2024-10       770.02           329.98                  Yes\n",
       "6  2025-03       767.74           332.26                  Yes\n",
       "5  2025-02       749.86           350.14                  Yes\n",
       "2  2024-11       555.05           544.95                  Yes\n",
       "7  2025-04       540.13           559.87                  Yes"
      ]
     },
     "execution_count": 516,
     "metadata": {},
     "output_type": "execute_result"
    }
   ],
   "source": [
    "monthly_totals = df.groupby(\"Month\")[\"Amount\"].sum()\n",
    "\n",
    "monthly_totals = monthly_totals.reset_index()\n",
    "\n",
    "monthly_totals.columns = [\"Month\", \"Total Spent\"]\n",
    "\n",
    "monthly_totals[\"Money Left Over\"] = 1100 - monthly_totals[\"Total Spent\"]\n",
    "\n",
    "def goal_achieved(x):\n",
    "    if x > 300:\n",
    "        return \"Yes\"\n",
    "    else:\n",
    "        return \"No\"\n",
    "        \n",
    "monthly_totals[\"Saving Goal Achieved\"] = monthly_totals[\"Money Left Over\"].apply(goal_achieved)\n",
    "\n",
    "monthly_totals = monthly_totals.sort_values(by = \"Total Spent\", ascending = False)\n",
    "\n",
    "monthly_totals"
   ]
  },
  {
   "cell_type": "markdown",
   "metadata": {},
   "source": [
    "From the table above, it is deduced that:\n",
    "\n",
    "- The saving goal of $300 was met in 5/8 months.\n",
    "\n",
    "- In January and December, the amount of money left over is negative, which means expenses > income\n",
    "\n",
    "- In September, some money was saved, but the goal of $300 was not met"
   ]
  },
  {
   "cell_type": "markdown",
   "metadata": {},
   "source": [
    "➤ Let's vizualize this by plotting the real monthly savings against the savings goal of $300:"
   ]
  },
  {
   "cell_type": "code",
   "execution_count": 517,
   "metadata": {},
   "outputs": [
    {
     "data": {
      "image/png": "[encoded data removed]",
      "text/plain": [
       "<Figure size 640x480 with 1 Axes>"
      ]
     },
     "metadata": {},
     "output_type": "display_data"
    }
   ],
   "source": [
    "monthly_totals[\"Month\"] = monthly_totals[\"Month\"].dt.to_timestamp()\n",
    "\n",
    "goal = 300  # constant savings goal\n",
    "\n",
    "monthly_totals = monthly_totals.sort_values(\"Month\")\n",
    "\n",
    "plt.plot(monthly_totals[\"Month\"], monthly_totals[\"Money Left Over\"],marker=\"o\",label=\"Actual Savings\", color=\"#fccde5\")\n",
    "\n",
    "plt.plot(monthly_totals[\"Month\"],[goal]*len(monthly_totals),linestyle=\"--\",color=\"#8dd3c7\",label=\"Savings Goal\")\n",
    "\n",
    "plt.title(\"Savings Trend vs Goal\")\n",
    "\n",
    "plt.xlabel(\"Month\")\n",
    "\n",
    "plt.ylabel(\"Amount ($)\")\n",
    "\n",
    "plt.legend()\n",
    "\n",
    "plt.show()"
   ]
  },
  {
   "cell_type": "markdown",
   "metadata": {},
   "source": [
    "Now more conclusions can be drawn:\n",
    "\n",
    "- January and December are the only months where spending exceeded income\n",
    "\n",
    "- The saving goal was surpassed in 5/8 months, which are represented by points above the saving goal line\n",
    "\n",
    "- Ultimately, saving was inconsistent over the course of the 8 months"
   ]
  },
  {
   "cell_type": "markdown",
   "metadata": {},
   "source": [
    "Total amount saved in eight months:"
   ]
  },
  {
   "cell_type": "code",
   "execution_count": 518,
   "metadata": {},
   "outputs": [
    {
     "data": {
      "text/plain": [
       "1713.81"
      ]
     },
     "execution_count": 518,
     "metadata": {},
     "output_type": "execute_result"
    }
   ],
   "source": [
    "(monthly_totals[\"Money Left Over\"].sum()).round(2)"
   ]
  },
  {
   "cell_type": "markdown",
   "metadata": {},
   "source": [
    "# ★ Category Breakdowns"
   ]
  },
  {
   "cell_type": "markdown",
   "metadata": {},
   "source": [
    "What is the money being spent on?"
   ]
  },
  {
   "cell_type": "markdown",
   "metadata": {},
   "source": [
    "A table can be used to summarize how much was spent in every category, as well as what percentage of the total every category makes up.\n",
    "\n"
   ]
  },
  {
   "cell_type": "code",
   "execution_count": 519,
   "metadata": {},
   "outputs": [
    {
     "data": {
      "text/html": [
       "<div>\n",
       "<style scoped>\n",
       "    .dataframe tbody tr th:only-of-type {\n",
       "        vertical-align: middle;\n",
       "    }\n",
       "\n",
       "    .dataframe tbody tr th {\n",
       "        vertical-align: top;\n",
       "    }\n",
       "\n",
       "    .dataframe thead th {\n",
       "        text-align: right;\n",
       "    }\n",
       "</style>\n",
       "<table border=\"1\" class=\"dataframe\">\n",
       "  <thead>\n",
       "    <tr style=\"text-align: right;\">\n",
       "      <th></th>\n",
       "      <th>Category</th>\n",
       "      <th>Amount</th>\n",
       "      <th>Percent of Total (%)</th>\n",
       "    </tr>\n",
       "  </thead>\n",
       "  <tbody>\n",
       "    <tr>\n",
       "      <th>1</th>\n",
       "      <td>Clothing</td>\n",
       "      <td>1341.75</td>\n",
       "      <td>18.93</td>\n",
       "    </tr>\n",
       "    <tr>\n",
       "      <th>8</th>\n",
       "      <td>Meals &amp; Drinks</td>\n",
       "      <td>1301.44</td>\n",
       "      <td>18.37</td>\n",
       "    </tr>\n",
       "    <tr>\n",
       "      <th>11</th>\n",
       "      <td>Transportation</td>\n",
       "      <td>974.30</td>\n",
       "      <td>13.75</td>\n",
       "    </tr>\n",
       "    <tr>\n",
       "      <th>6</th>\n",
       "      <td>Food &amp; Snacks</td>\n",
       "      <td>802.88</td>\n",
       "      <td>11.33</td>\n",
       "    </tr>\n",
       "    <tr>\n",
       "      <th>7</th>\n",
       "      <td>Gifts</td>\n",
       "      <td>696.58</td>\n",
       "      <td>9.83</td>\n",
       "    </tr>\n",
       "    <tr>\n",
       "      <th>2</th>\n",
       "      <td>Cosmetics</td>\n",
       "      <td>450.01</td>\n",
       "      <td>6.35</td>\n",
       "    </tr>\n",
       "    <tr>\n",
       "      <th>10</th>\n",
       "      <td>School</td>\n",
       "      <td>425.13</td>\n",
       "      <td>6.00</td>\n",
       "    </tr>\n",
       "    <tr>\n",
       "      <th>5</th>\n",
       "      <td>Entertainment</td>\n",
       "      <td>389.90</td>\n",
       "      <td>5.50</td>\n",
       "    </tr>\n",
       "    <tr>\n",
       "      <th>0</th>\n",
       "      <td>Activities</td>\n",
       "      <td>385.96</td>\n",
       "      <td>5.45</td>\n",
       "    </tr>\n",
       "    <tr>\n",
       "      <th>9</th>\n",
       "      <td>Miscellaneous</td>\n",
       "      <td>152.54</td>\n",
       "      <td>2.15</td>\n",
       "    </tr>\n",
       "    <tr>\n",
       "      <th>4</th>\n",
       "      <td>Dorm necessities</td>\n",
       "      <td>111.23</td>\n",
       "      <td>1.57</td>\n",
       "    </tr>\n",
       "    <tr>\n",
       "      <th>3</th>\n",
       "      <td>Discretionary</td>\n",
       "      <td>54.47</td>\n",
       "      <td>0.77</td>\n",
       "    </tr>\n",
       "  </tbody>\n",
       "</table>\n",
       "</div>"
      ],
      "text/plain": [
       "            Category   Amount  Percent of Total (%)\n",
       "1           Clothing  1341.75                 18.93\n",
       "8     Meals & Drinks  1301.44                 18.37\n",
       "11    Transportation   974.30                 13.75\n",
       "6      Food & Snacks   802.88                 11.33\n",
       "7              Gifts   696.58                  9.83\n",
       "2          Cosmetics   450.01                  6.35\n",
       "10            School   425.13                  6.00\n",
       "5      Entertainment   389.90                  5.50\n",
       "0         Activities   385.96                  5.45\n",
       "9      Miscellaneous   152.54                  2.15\n",
       "4   Dorm necessities   111.23                  1.57\n",
       "3      Discretionary    54.47                  0.77"
      ]
     },
     "execution_count": 519,
     "metadata": {},
     "output_type": "execute_result"
    }
   ],
   "source": [
    "category_spending = df.groupby(\"Category\")[\"Amount\"].sum()\n",
    "\n",
    "category_spending = category_spending.reset_index()\n",
    "\n",
    "category_spending = category_spending.sort_values(by = \"Amount\", ascending = False)\n",
    "\n",
    "category_spending[\"Percent of Total (%)\"] = ((category_spending[\"Amount\"] / category_spending[\"Amount\"].sum()) * 100).round(2)\n",
    "\n",
    "category_spending"
   ]
  },
  {
   "cell_type": "markdown",
   "metadata": {},
   "source": [
    "It can be easily observed that clothing expenses make up the largest percentage of the total spent. \n",
    "\n",
    "Over $1300 was spent on clothes, $1300 on Meals & Drinks, and nearly $1000 on Transportation."
   ]
  },
  {
   "cell_type": "markdown",
   "metadata": {},
   "source": [
    "➤ A pie chart will provide a clear and useful visual for the overall category breakdown:"
   ]
  },
  {
   "cell_type": "code",
   "execution_count": 506,
   "metadata": {},
   "outputs": [
    {
     "data": {
      "image/png": "[encoded data removed]",
      "text/plain": [
       "<Figure size 640x480 with 1 Axes>"
      ]
     },
     "metadata": {},
     "output_type": "display_data"
    }
   ],
   "source": [
    "plt.pie(category_spending[\"Percent of Total (%)\"], labels = category_spending[\"Category\"], autopct=\"%1.1f%%\", colors=plt.cm.Set3.colors)\n",
    "plt.title(\"Category Distributions\")\n",
    "plt.show()"
   ]
  },
  {
   "cell_type": "markdown",
   "metadata": {},
   "source": [
    "Some more observations:\n",
    "\n",
    "- The top three categories make up more than 50% of the total spent\n",
    "\n",
    "- The smallest expenses were Miscellaenous, Dorm Necessities, and Discretionary expenses\n",
    "\n",
    "It is clear which categories have the biggest weight on the total amount spent, and which ones have less of an impact.\n",
    "This is particularly useful if we want to look into which category spending should be limited in order to increase overall savings. "
   ]
  },
  {
   "cell_type": "markdown",
   "metadata": {},
   "source": [
    "Now that we have vizualized the overall category breakdown, we can breakdown the categories for every month. \n",
    "\n",
    "A pivot table can be created to combine Months, Categories, and Amounts into one dataset, which would facilitate the monthly category distribution."
   ]
  },
  {
   "cell_type": "code",
   "execution_count": 507,
   "metadata": {},
   "outputs": [
    {
     "data": {
      "text/html": [
       "<div>\n",
       "<style scoped>\n",
       "    .dataframe tbody tr th:only-of-type {\n",
       "        vertical-align: middle;\n",
       "    }\n",
       "\n",
       "    .dataframe tbody tr th {\n",
       "        vertical-align: top;\n",
       "    }\n",
       "\n",
       "    .dataframe thead th {\n",
       "        text-align: right;\n",
       "    }\n",
       "</style>\n",
       "<table border=\"1\" class=\"dataframe\">\n",
       "  <thead>\n",
       "    <tr style=\"text-align: right;\">\n",
       "      <th>Category</th>\n",
       "      <th>Activities</th>\n",
       "      <th>Clothing</th>\n",
       "      <th>Cosmetics</th>\n",
       "      <th>Discretionary</th>\n",
       "      <th>Dorm necessities</th>\n",
       "      <th>Entertainment</th>\n",
       "      <th>Food &amp; Snacks</th>\n",
       "      <th>Gifts</th>\n",
       "      <th>Meals &amp; Drinks</th>\n",
       "      <th>Miscellaneous</th>\n",
       "      <th>School</th>\n",
       "      <th>Transportation</th>\n",
       "    </tr>\n",
       "    <tr>\n",
       "      <th>Month</th>\n",
       "      <th></th>\n",
       "      <th></th>\n",
       "      <th></th>\n",
       "      <th></th>\n",
       "      <th></th>\n",
       "      <th></th>\n",
       "      <th></th>\n",
       "      <th></th>\n",
       "      <th></th>\n",
       "      <th></th>\n",
       "      <th></th>\n",
       "      <th></th>\n",
       "    </tr>\n",
       "  </thead>\n",
       "  <tbody>\n",
       "    <tr>\n",
       "      <th>2024-09</th>\n",
       "      <td>0.00</td>\n",
       "      <td>445.21</td>\n",
       "      <td>0.00</td>\n",
       "      <td>0.00</td>\n",
       "      <td>53.76</td>\n",
       "      <td>96.39</td>\n",
       "      <td>127.23</td>\n",
       "      <td>0.00</td>\n",
       "      <td>167.32</td>\n",
       "      <td>21.03</td>\n",
       "      <td>24.15</td>\n",
       "      <td>152.38</td>\n",
       "    </tr>\n",
       "    <tr>\n",
       "      <th>2024-10</th>\n",
       "      <td>0.00</td>\n",
       "      <td>282.52</td>\n",
       "      <td>127.28</td>\n",
       "      <td>0.00</td>\n",
       "      <td>0.00</td>\n",
       "      <td>67.25</td>\n",
       "      <td>87.69</td>\n",
       "      <td>0.00</td>\n",
       "      <td>172.39</td>\n",
       "      <td>32.89</td>\n",
       "      <td>0.00</td>\n",
       "      <td>0.00</td>\n",
       "    </tr>\n",
       "    <tr>\n",
       "      <th>2024-11</th>\n",
       "      <td>142.65</td>\n",
       "      <td>61.02</td>\n",
       "      <td>64.20</td>\n",
       "      <td>0.00</td>\n",
       "      <td>0.00</td>\n",
       "      <td>24.52</td>\n",
       "      <td>125.66</td>\n",
       "      <td>0.00</td>\n",
       "      <td>121.05</td>\n",
       "      <td>12.57</td>\n",
       "      <td>0.00</td>\n",
       "      <td>3.38</td>\n",
       "    </tr>\n",
       "    <tr>\n",
       "      <th>2024-12</th>\n",
       "      <td>29.84</td>\n",
       "      <td>289.77</td>\n",
       "      <td>13.59</td>\n",
       "      <td>0.00</td>\n",
       "      <td>0.00</td>\n",
       "      <td>0.00</td>\n",
       "      <td>68.30</td>\n",
       "      <td>413.20</td>\n",
       "      <td>84.59</td>\n",
       "      <td>6.22</td>\n",
       "      <td>0.00</td>\n",
       "      <td>353.87</td>\n",
       "    </tr>\n",
       "    <tr>\n",
       "      <th>2025-01</th>\n",
       "      <td>63.17</td>\n",
       "      <td>124.54</td>\n",
       "      <td>45.72</td>\n",
       "      <td>0.00</td>\n",
       "      <td>0.00</td>\n",
       "      <td>142.80</td>\n",
       "      <td>128.10</td>\n",
       "      <td>0.00</td>\n",
       "      <td>155.31</td>\n",
       "      <td>32.30</td>\n",
       "      <td>392.75</td>\n",
       "      <td>271.85</td>\n",
       "    </tr>\n",
       "    <tr>\n",
       "      <th>2025-02</th>\n",
       "      <td>0.00</td>\n",
       "      <td>50.42</td>\n",
       "      <td>112.82</td>\n",
       "      <td>0.00</td>\n",
       "      <td>28.29</td>\n",
       "      <td>8.93</td>\n",
       "      <td>130.24</td>\n",
       "      <td>44.54</td>\n",
       "      <td>353.43</td>\n",
       "      <td>21.19</td>\n",
       "      <td>0.00</td>\n",
       "      <td>0.00</td>\n",
       "    </tr>\n",
       "    <tr>\n",
       "      <th>2025-03</th>\n",
       "      <td>150.30</td>\n",
       "      <td>41.82</td>\n",
       "      <td>73.46</td>\n",
       "      <td>3.71</td>\n",
       "      <td>0.00</td>\n",
       "      <td>50.01</td>\n",
       "      <td>92.27</td>\n",
       "      <td>0.00</td>\n",
       "      <td>145.05</td>\n",
       "      <td>18.30</td>\n",
       "      <td>0.00</td>\n",
       "      <td>192.82</td>\n",
       "    </tr>\n",
       "    <tr>\n",
       "      <th>2025-04</th>\n",
       "      <td>0.00</td>\n",
       "      <td>46.45</td>\n",
       "      <td>12.94</td>\n",
       "      <td>50.76</td>\n",
       "      <td>29.18</td>\n",
       "      <td>0.00</td>\n",
       "      <td>43.39</td>\n",
       "      <td>238.84</td>\n",
       "      <td>102.30</td>\n",
       "      <td>8.04</td>\n",
       "      <td>8.23</td>\n",
       "      <td>0.00</td>\n",
       "    </tr>\n",
       "  </tbody>\n",
       "</table>\n",
       "</div>"
      ],
      "text/plain": [
       "Category  Activities  Clothing  Cosmetics  Discretionary  Dorm necessities  \\\n",
       "Month                                                                        \n",
       "2024-09         0.00    445.21       0.00           0.00             53.76   \n",
       "2024-10         0.00    282.52     127.28           0.00              0.00   \n",
       "2024-11       142.65     61.02      64.20           0.00              0.00   \n",
       "2024-12        29.84    289.77      13.59           0.00              0.00   \n",
       "2025-01        63.17    124.54      45.72           0.00              0.00   \n",
       "2025-02         0.00     50.42     112.82           0.00             28.29   \n",
       "2025-03       150.30     41.82      73.46           3.71              0.00   \n",
       "2025-04         0.00     46.45      12.94          50.76             29.18   \n",
       "\n",
       "Category  Entertainment  Food & Snacks   Gifts  Meals & Drinks  Miscellaneous  \\\n",
       "Month                                                                           \n",
       "2024-09           96.39         127.23    0.00          167.32          21.03   \n",
       "2024-10           67.25          87.69    0.00          172.39          32.89   \n",
       "2024-11           24.52         125.66    0.00          121.05          12.57   \n",
       "2024-12            0.00          68.30  413.20           84.59           6.22   \n",
       "2025-01          142.80         128.10    0.00          155.31          32.30   \n",
       "2025-02            8.93         130.24   44.54          353.43          21.19   \n",
       "2025-03           50.01          92.27    0.00          145.05          18.30   \n",
       "2025-04            0.00          43.39  238.84          102.30           8.04   \n",
       "\n",
       "Category  School  Transportation  \n",
       "Month                             \n",
       "2024-09    24.15          152.38  \n",
       "2024-10     0.00            0.00  \n",
       "2024-11     0.00            3.38  \n",
       "2024-12     0.00          353.87  \n",
       "2025-01   392.75          271.85  \n",
       "2025-02     0.00            0.00  \n",
       "2025-03     0.00          192.82  \n",
       "2025-04     8.23            0.00  "
      ]
     },
     "execution_count": 507,
     "metadata": {},
     "output_type": "execute_result"
    }
   ],
   "source": [
    "monthly_categories = df.pivot_table(index = \"Month\", columns = \"Category\", values = \"Amount\", aggfunc=\"sum\", fill_value = 0)\n",
    "\n",
    "monthly_categories"
   ]
  },
  {
   "cell_type": "markdown",
   "metadata": {},
   "source": [
    "➤ Using the pivot table, a stacked bar graph can be created to easily visualize the category breakdown. "
   ]
  },
  {
   "cell_type": "code",
   "execution_count": 508,
   "metadata": {},
   "outputs": [
    {
     "data": {
      "image/png": "[encoded data removed]",
      "text/plain": [
       "<Figure size 800x700 with 1 Axes>"
      ]
     },
     "metadata": {},
     "output_type": "display_data"
    }
   ],
   "source": [
    "monthly_categories.plot(kind =\"bar\", stacked = True, figsize =(8,7), colormap=\"Set3\")\n",
    "\n",
    "plt.title(\"Monthly Spending Categories\")\n",
    "\n",
    "plt.xlabel(\"Month\")\n",
    "\n",
    "plt.ylabel(\"Amount ($)\")\n",
    "\n",
    "plt.legend(title=\"Category\", fontsize=6)\n",
    "\n",
    "plt.show()"
   ]
  },
  {
   "cell_type": "markdown",
   "metadata": {},
   "source": [
    "Now the following observations can be made:\n",
    "\n",
    "- Transportation was most expensive in September, December, January, and March\n",
    "\n",
    "- Clothing was the biggest expense for September and October\n",
    "\n",
    "- Meals & Drinks were a significant expense every month\n",
    "\n",
    "- Activities, Food & Snacks, Dorm necessities, Miscellaneous, and the remaning categories are a relatively small expense for most months"
   ]
  },
  {
   "cell_type": "markdown",
   "metadata": {},
   "source": [
    "# ★ Spending Forecast"
   ]
  },
  {
   "cell_type": "markdown",
   "metadata": {},
   "source": [
    "A prediction for spending in the ninth month can be calculated by averaging the last three months of spending data."
   ]
  },
  {
   "cell_type": "code",
   "execution_count": 509,
   "metadata": {},
   "outputs": [
    {
     "name": "stdout",
     "output_type": "stream",
     "text": [
      "Predicted spending for month 9: $716.42\n"
     ]
    }
   ],
   "source": [
    "x = np.arange(1, len(monthly_totals)+1)  \n",
    "\n",
    "y = monthly_totals[\"Total Spent\"].values\n",
    "\n",
    "m, b = np.polyfit(x, y, 1)\n",
    "\n",
    "month_nine = m*(len(monthly_totals)+1) + b\n",
    "\n",
    "print(f\"Predicted spending for month 9: ${month_nine:.2f}\")"
   ]
  },
  {
   "cell_type": "markdown",
   "metadata": {},
   "source": [
    "To vizualize where this data point exists relative to the previous amounts, a visual with all points as well as a trend line would be useful.\n",
    "\n",
    "➤ A scatterplot is highly effective in this case:"
   ]
  },
  {
   "cell_type": "code",
   "execution_count": 510,
   "metadata": {},
   "outputs": [
    {
     "data": {
      "image/png": "[encoded data removed]",
      "text/plain": [
       "<Figure size 640x480 with 1 Axes>"
      ]
     },
     "metadata": {},
     "output_type": "display_data"
    }
   ],
   "source": [
    "x_9 = 9\n",
    "y_9 = month_nine\n",
    "\n",
    "\n",
    "plt.scatter(x, y, label=\"Actual Spending\", color = \"#fccde5\")   \n",
    "plt.scatter(x_9,y_9, label = \"Next Month\", color = \"#fb8072\")    \n",
    "plt.plot(x, m*x + b, color = \"#8dd3c7\", label=\"Trend\") \n",
    "\n",
    "plt.xlabel(\"Month\")\n",
    "plt.ylabel(\"Total Spent ($)\")\n",
    "plt.legend()\n",
    "plt.show()"
   ]
  },
  {
   "cell_type": "markdown",
   "metadata": {},
   "source": [
    "# ★ Final Insights"
   ]
  },
  {
   "cell_type": "markdown",
   "metadata": {},
   "source": [
    "In summary, the analysis of eight months of transaction data has led to the following conclusions:\n",
    "\n",
    "- **Monthly Spending Trend:** Monthly spending averaged **$885.77**, with a peak of **$1356.54 in January** due to higher school and transportation costs.  \n",
    "\n",
    "- **Savings Goal:** The $300 savings goal was met in **5 out of 8 months (62.5%)**, but there was significant overspending in January and December. \n",
    "\n",
    "- **Category Breakdown:** Clothing accounted for ~20% of total spending, while **Meals & Drinks** and **Transportation** were also in the top 3 categories. \n",
    "\n",
    "- **Forecast:** A simple linear model predicts spending of **~$716.42 next month**, slightly below the average.  \n",
    "\n",
    "\n",
    "**Recommendation:** Reducing discretionary spending in Clothing and Meals & Drinks would increase the likelihood of hitting savings targets.  "
   ]
  },
  {
   "cell_type": "code",
   "execution_count": 521,
   "metadata": {},
   "outputs": [],
   "source": [
    "df.to_csv(\"cleaned_spending.csv\", index = False)"
   ]
  },
  {
   "cell_type": "code",
   "execution_count": 524,
   "metadata": {},
   "outputs": [],
   "source": [
    "monthly_totals.to_csv(\"monthly_totals.csv\", index = False)"
   ]
  },
  {
   "cell_type": "code",
   "execution_count": 525,
   "metadata": {},
   "outputs": [],
   "source": [
    "category_spending.to_csv(\"category_breakdown.csv\", index = False)"
   ]
  }
 ],
 "metadata": {
  "kaggle": {
   "accelerator": "none",
   "dataSources": [
    {
     "datasetId": 8059346,
     "sourceId": 12749364,
     "sourceType": "datasetVersion"
    }
   ],
   "dockerImageVersionId": 31089,
   "isGpuEnabled": false,
   "isInternetEnabled": false,
   "language": "python",
   "sourceType": "notebook"
  },
  "kernelspec": {
   "display_name": "base",
   "language": "python",
   "name": "python3"
  },
  "language_info": {
   "codemirror_mode": {
    "name": "ipython",
    "version": 3
   },
   "file_extension": ".py",
   "mimetype": "text/x-python",
   "name": "python",
   "nbconvert_exporter": "python",
   "pygments_lexer": "ipython3",
   "version": "3.12.7"
  }
 },
 "nbformat": 4,
 "nbformat_minor": 4
}
